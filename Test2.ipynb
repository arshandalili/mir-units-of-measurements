{
 "cells": [
  {
   "cell_type": "code",
   "execution_count": 1,
   "metadata": {},
   "outputs": [
    {
     "name": "stdout",
     "output_type": "stream",
     "text": [
      "Requirement already satisfied: hazm in /Users/arshandalili/opt/anaconda3/lib/python3.9/site-packages (0.7.0)\n",
      "Requirement already satisfied: nltk==3.3 in /Users/arshandalili/opt/anaconda3/lib/python3.9/site-packages (from hazm) (3.3)\n",
      "Requirement already satisfied: libwapiti>=0.2.1 in /Users/arshandalili/opt/anaconda3/lib/python3.9/site-packages (from hazm) (0.2.1)\n",
      "Requirement already satisfied: six in /Users/arshandalili/opt/anaconda3/lib/python3.9/site-packages (from nltk==3.3->hazm) (1.16.0)\n"
     ]
    }
   ],
   "source": [
    "! pip install hazm"
   ]
  },
  {
   "cell_type": "code",
   "execution_count": 88,
   "metadata": {},
   "outputs": [
    {
     "data": {
      "text/plain": [
       "[('یک', 'NUM'),\n",
       " ('خودرو', 'N'),\n",
       " ('با', 'P'),\n",
       " ('طول', 'Ne'),\n",
       " ('دراز', 'AJ'),\n",
       " ('و', 'CONJ'),\n",
       " ('عرض', 'Ne'),\n",
       " ('کوتاه', 'AJ'),\n",
       " ('از', 'P'),\n",
       " ('ما', 'PRO'),\n",
       " ('سبقت', 'N'),\n",
       " ('گرفت', 'V'),\n",
       " ('.', 'PUNC')]"
      ]
     },
     "execution_count": 88,
     "metadata": {},
     "output_type": "execute_result"
    }
   ],
   "source": [
    "from __future__ import unicode_literals\n",
    "from hazm import *\n",
    "\n",
    "\n",
    "text = 'یک خودرو با طول دراز و عرض کوتاه از ما سبقت گرفت.'\n",
    "\n",
    "tagger = POSTagger(model='resources/hazm/postagger.model')\n",
    "tagger.tag(word_tokenize(text))"
   ]
  },
  {
   "cell_type": "code",
   "execution_count": 23,
   "metadata": {},
   "outputs": [
    {
     "data": {
      "text/plain": [
       "'جابهجایی'"
      ]
     },
     "execution_count": 23,
     "metadata": {},
     "output_type": "execute_result"
    }
   ],
   "source": [
    "p = Normalizer()\n",
    "p.normalize('جابهجایی')"
   ]
  },
  {
   "cell_type": "code",
   "execution_count": 65,
   "metadata": {},
   "outputs": [
    {
     "data": {
      "text/plain": [
       "'[یک خودرو NP] [با PP] [سرعت NP] [کند VP] [از PP] [ما NP] [سبقت گرفت VP] .'"
      ]
     },
     "execution_count": 65,
     "metadata": {},
     "output_type": "execute_result"
    }
   ],
   "source": [
    "chunker = Chunker(model='resources/hazm/chunker.model')\n",
    "tagged = tagger.tag(word_tokenize(text))\n",
    "a = chunker.parse(tagged)\n",
    "b = tree2brackets(a)\n",
    "b"
   ]
  },
  {
   "cell_type": "code",
   "execution_count": 25,
   "metadata": {},
   "outputs": [
    {
     "name": "stdout",
     "output_type": "stream",
     "text": [
      "1\n"
     ]
    }
   ],
   "source": [
    "c = a[0]\n",
    "print(1)"
   ]
  },
  {
   "cell_type": "code",
   "execution_count": 26,
   "metadata": {},
   "outputs": [],
   "source": [
    "d = ' '.join([s[0] for s in list(a[0])])"
   ]
  },
  {
   "cell_type": "code",
   "execution_count": 27,
   "metadata": {},
   "outputs": [
    {
     "data": {
      "text/plain": [
       "'سرعت بالای خودروی عمه علی'"
      ]
     },
     "execution_count": 27,
     "metadata": {},
     "output_type": "execute_result"
    }
   ],
   "source": [
    "d"
   ]
  },
  {
   "cell_type": "code",
   "execution_count": 29,
   "metadata": {},
   "outputs": [
    {
     "data": {
      "text/plain": [
       "[Tree('NP', [('سرعت', 'Ne'), ('بالای', 'AJe'), ('خودروی', 'Ne'), ('عمه', 'N'), ('علی', 'N')]),\n",
       " Tree('ADJP', [('عجیب', 'AJ')]),\n",
       " Tree('VP', [('است', 'V')]),\n",
       " ('.', 'PUNC')]"
      ]
     },
     "execution_count": 29,
     "metadata": {},
     "output_type": "execute_result"
    }
   ],
   "source": [
    "list(a)"
   ]
  },
  {
   "cell_type": "code",
   "execution_count": 92,
   "metadata": {},
   "outputs": [],
   "source": [
    "from __future__ import unicode_literals\n",
    "from hazm import *\n",
    "import re\n",
    "\n",
    "\n",
    "tagger = POSTagger(model='resources/hazm/postagger.model')\n",
    "chunker = Chunker(model='resources/hazm/chunker.model')\n",
    "\n",
    "\n",
    "def join_patterns(patterns, grouping=False):\n",
    "    return '(' + ('?:' if not grouping else '') + '|'.join(patterns) + ')'\n",
    "\n",
    "\n",
    "def extract_qualitative(text, quantity, last_span):\n",
    "    tagged = tagger.tag(word_tokenize(text))\n",
    "    res = list(chunker.parse(tagged))\n",
    "    for tree in res:\n",
    "        tokens = list(tree)\n",
    "        for idx in range(len(tokens)):\n",
    "            if tokens[idx][0] == quantity and idx != len(tokens) - 1:\n",
    "                chunk_str = ' '.join([s[0] for s in tokens])\n",
    "                match_span = re.search(chunk_str, text).span()\n",
    "                if tokens[idx+1][1].startswith('AJ') and match_span[0] > last_span:\n",
    "                    return chunk_str\n",
    "\n",
    "\n",
    "\n",
    "inverse_alternative = {}\n",
    "with open('resources/dataset/inverse_alternative.json', 'r', encoding='utf-8') as fp:\n",
    "    inverse_alternative = json.load(fp)\n",
    "\n",
    "def qualitive_descriptions(text):\n",
    "    sents = sent_tokenize(text)\n",
    "    PATTERN = join_patterns(list(inverse_alternative.keys()))\n",
    "    res = []\n",
    "    read_chars = 0\n",
    "    for sent in sents:\n",
    "        last_span = 0\n",
    "        for match in re.finditer(PATTERN, sent):\n",
    "            marker = extract_qualitative(sent, match.group(), last_span)\n",
    "            if marker is None:\n",
    "                continue\n",
    "            temp_dict = {\n",
    "                'type': inverse_alternative[match.group()],\n",
    "                'amount': '',\n",
    "                'unit': '',\n",
    "                'item': '',\n",
    "                'marker': marker,\n",
    "                'span': [match.span()[0] + read_chars, match.span()[0] + len(marker) + read_chars]\n",
    "            }\n",
    "            last_span = match.span()[0] + len(marker)\n",
    "            res.append(temp_dict)\n",
    "        read_chars += len(sent)\n",
    "        \n",
    "    return res\n",
    "        "
   ]
  },
  {
   "cell_type": "code",
   "execution_count": 95,
   "metadata": {},
   "outputs": [
    {
     "data": {
      "text/plain": [
       "[{'type': 'طول',\n",
       "  'amount': '',\n",
       "  'unit': '',\n",
       "  'item': '',\n",
       "  'marker': 'طول دراز و عرض کوتاه',\n",
       "  'span': [12, 32]},\n",
       " {'type': 'طول',\n",
       "  'amount': '',\n",
       "  'unit': '',\n",
       "  'item': '',\n",
       "  'marker': 'طول دراز و عرض کوتاه',\n",
       "  'span': [61, 81]},\n",
       " {'type': 'طول',\n",
       "  'amount': '',\n",
       "  'unit': '',\n",
       "  'item': '',\n",
       "  'marker': 'طول دراز و عرض کوتاه',\n",
       "  'span': [110, 130]},\n",
       " {'type': 'طول',\n",
       "  'amount': '',\n",
       "  'unit': '',\n",
       "  'item': '',\n",
       "  'marker': 'طول دراز و عرض کوتاه',\n",
       "  'span': [159, 179]},\n",
       " {'type': 'طول',\n",
       "  'amount': '',\n",
       "  'unit': '',\n",
       "  'item': '',\n",
       "  'marker': 'طول دراز و عرض کوتاه',\n",
       "  'span': [208, 228]}]"
      ]
     },
     "execution_count": 95,
     "metadata": {},
     "output_type": "execute_result"
    }
   ],
   "source": [
    "text = 'یک خودرو با طول دراز و عرض کوتاه از ما سبقت گرفت.'\n",
    "\n",
    "b = 5 * text\n",
    "\n",
    "b = p.normalize(b)\n",
    "\n",
    "qualitive_descriptions(b)"
   ]
  },
  {
   "cell_type": "code",
   "execution_count": 31,
   "metadata": {},
   "outputs": [],
   "source": [
    "import json\n",
    "quantities = {}\n",
    "with open('resources/dataset/quantities_related_names.json', 'r', encoding='utf-8') as fp:\n",
    "    quantities = json.load(fp)\n",
    "\n",
    "temp = {}\n",
    "\n",
    "for k, v in quantities.items():\n",
    "    for alt in v:\n",
    "        temp[alt] = k\n",
    "\n",
    "with open('resources/dataset/inverse_alternative.json', 'w', encoding='utf-8') as fp:\n",
    "    json.dump(temp, fp, indent=4)"
   ]
  },
  {
   "cell_type": "code",
   "execution_count": 22,
   "metadata": {},
   "outputs": [
    {
     "data": {
      "text/plain": [
       "('سرعت', 'Ne')"
      ]
     },
     "execution_count": 22,
     "metadata": {},
     "output_type": "execute_result"
    }
   ],
   "source": [
    "a[0][0]"
   ]
  },
  {
   "cell_type": "code",
   "execution_count": 26,
   "metadata": {},
   "outputs": [],
   "source": [
    "import json\n",
    "quantities = {}\n",
    "with open('resources/dataset/quantities_related_names.json', 'r', encoding='utf-8') as fp:\n",
    "    quantities = json.load(fp)\n",
    "\n",
    "quantities_names = []\n",
    "for k, v in quantities.items():\n",
    "    quantities_names.extend(v)\n",
    "\n",
    "quantities_names\n",
    "\n",
    "with open('resources/dataset/alternatives_for_quantities.json', 'w', encoding='utf-8') as fp:\n",
    "    json.dump(quantities_names, fp, indent=4)"
   ]
  },
  {
   "cell_type": "code",
   "execution_count": 27,
   "metadata": {},
   "outputs": [
    {
     "data": {
      "text/plain": [
       "['تغییرات سرعت به تغییرات زمان',\n",
       " 'شتاب',\n",
       " 'تغییرات سرعت نسبت به تغییرات زمان',\n",
       " 'تغییرات سرعت نسبت به زمان',\n",
       " 'گشتاور دورانی',\n",
       " 'گشتاور زاویه\\u200cای',\n",
       " 'تکانه زاویه\\u200cای',\n",
       " 'سطح',\n",
       " 'زمین',\n",
       " 'مساحت',\n",
       " 'چگالی سطح',\n",
       " 'چگالی سطحی',\n",
       " 'جرم سطحی',\n",
       " 'ظرفیت',\n",
       " 'خازن',\n",
       " 'کاپاسیتانس',\n",
       " 'پتانسیل شیمیایی',\n",
       " 'آنتروپی',\n",
       " 'آنتالپی',\n",
       " 'چگالی جریان',\n",
       " 'جریان الکتریکی بر واحد سطح',\n",
       " 'بار الکتریکی',\n",
       " 'بار',\n",
       " 'الکتریسیته',\n",
       " 'پتانسیل الکتریکی',\n",
       " 'ولتاژ',\n",
       " 'پتانسل',\n",
       " 'اختلاف پتانسیل',\n",
       " 'مقاومت الکتریکی',\n",
       " 'مقاومت',\n",
       " 'رزیستانس',\n",
       " 'انرژی',\n",
       " 'گرما',\n",
       " 'ارزش غذایی',\n",
       " 'کارمایه',\n",
       " 'پتانسیل',\n",
       " 'جنبشی',\n",
       " 'آنتروپی',\n",
       " 'آنتالپی',\n",
       " 'توان',\n",
       " 'نرخ',\n",
       " 'فشار',\n",
       " 'گشتاور',\n",
       " 'نیروی چرخشی',\n",
       " 'نیروی دورانی',\n",
       " 'ممان نیرو',\n",
       " 'سرعت',\n",
       " 'تندی',\n",
       " 'جابجایی نسبت به زمان',\n",
       " 'مسافت نسبت به زمان',\n",
       " 'جابجایی نسبت به تغییرات زمان',\n",
       " 'مسافت نسبت به تغییرات زمان',\n",
       " 'مسافت طی شده نسبت به تغییرات زمان',\n",
       " 'حجم',\n",
       " 'فضا',\n",
       " 'طول',\n",
       " 'فاصله',\n",
       " 'عرض',\n",
       " 'ارتفاع',\n",
       " 'جابه\\u200cجایی',\n",
       " 'جا به جایی',\n",
       " 'جابجایی',\n",
       " 'مسافت',\n",
       " 'بازه',\n",
       " 'شعاع',\n",
       " 'قطر',\n",
       " 'ضلع',\n",
       " 'محیط',\n",
       " 'وتر',\n",
       " 'اضلاع',\n",
       " 'مکان',\n",
       " 'جرم',\n",
       " 'وزن',\n",
       " 'سنگینی',\n",
       " 'سبکی',\n",
       " 'زمان',\n",
       " 'مدت',\n",
       " 'بازه',\n",
       " 'طول',\n",
       " 'درازا',\n",
       " 'تایم',\n",
       " 'دما',\n",
       " 'گرمی',\n",
       " 'سردی',\n",
       " 'جوش',\n",
       " 'ذوب',\n",
       " 'تبخیر',\n",
       " 'میعان',\n",
       " 'انجماد',\n",
       " 'تصعید',\n",
       " 'تقطیر',\n",
       " 'چگالش',\n",
       " 'نقطه',\n",
       " 'مقدار ماده',\n",
       " 'تعداد ذرات',\n",
       " 'شدت روشنایی',\n",
       " 'نور',\n",
       " 'گسیل نوری',\n",
       " 'چگالی شار نوری',\n",
       " 'درخشش',\n",
       " 'درخشندگی',\n",
       " 'نیرو',\n",
       " 'قوه',\n",
       " 'زور',\n",
       " 'وزن',\n",
       " 'گرانش',\n",
       " 'جاذبه',\n",
       " 'دافعه',\n",
       " 'اصطکاک',\n",
       " 'گریز از مرکز',\n",
       " 'جانب مرکز',\n",
       " 'فرکانس',\n",
       " 'بسامد',\n",
       " 'ارتعاش',\n",
       " 'نوسان',\n",
       " 'جریان الکتریکی',\n",
       " 'جریان',\n",
       " 'آمپراژ',\n",
       " 'چگالی بار الکتریکی',\n",
       " 'چگالی',\n",
       " 'بار حجمی']"
      ]
     },
     "execution_count": 27,
     "metadata": {},
     "output_type": "execute_result"
    }
   ],
   "source": [
    "alternatives = {}\n",
    "with open('resources/dataset/alternatives_for_quantities.json', 'r', encoding='utf-8') as fp:\n",
    "    alternatives = json.load(fp)\n",
    "\n",
    "alternatives"
   ]
  },
  {
   "cell_type": "code",
   "execution_count": null,
   "metadata": {},
   "outputs": [],
   "source": [
    "class Extracted_quantity:\n",
    "\n",
    "    def __init(self, type, amount, unit, item, marker, span, SI_equivalent):\n",
    "        self.type = type\n",
    "        self.amount = amount\n",
    "        self.unit = unit\n",
    "        self.item = item\n",
    "        self.marker = marker\n",
    "        self.span = span\n",
    "        self.SI_equivalent = SI_equivalent\n",
    "\n",
    "    def get_dict(self):\n",
    "        return {\n",
    "            'type': self.type,\n",
    "            'amount': self.amount,\n",
    "            'unit': self.unit,\n",
    "            'item': self.item,\n",
    "            'marker': self.marker,\n",
    "            'span': self.span,\n",
    "            'SI_equivalent': self.SI_equivalent,\n",
    "        }\n",
    "\n"
   ]
  }
 ],
 "metadata": {
  "interpreter": {
   "hash": "a78e5bf1b2671d60bd6da117be21fdbc9fac13762871a45216d3927d388d0255"
  },
  "kernelspec": {
   "display_name": "Python 3.9.12 ('base')",
   "language": "python",
   "name": "python3"
  },
  "language_info": {
   "codemirror_mode": {
    "name": "ipython",
    "version": 3
   },
   "file_extension": ".py",
   "mimetype": "text/x-python",
   "name": "python",
   "nbconvert_exporter": "python",
   "pygments_lexer": "ipython3",
   "version": "3.9.12"
  },
  "orig_nbformat": 4
 },
 "nbformat": 4,
 "nbformat_minor": 2
}