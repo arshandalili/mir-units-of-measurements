{
 "cells": [
  {
   "cell_type": "code",
   "execution_count": null,
   "metadata": {},
   "outputs": [],
   "source": [
    "import re\n",
    "\n",
    "lines = None\n",
    "with open('resources/raw/units.txt') as fp:\n",
    "    lines = [l for l in fp.readlines() if not l.startswith('#') and not l.startswith('@')]\n",
    "\n",
    "lines_units = []\n",
    "lines_types = []\n",
    "lines_prefs = []\n",
    "\n",
    "for line in lines:\n",
    "    l = list(map(str.strip, line.split(' = ')))\n",
    "    if len(l) <= 1:\n",
    "        continue\n",
    "    if l[0][0] == '[':\n",
    "        lines_types.append(l)\n",
    "    elif l[0][-1] == '-':\n",
    "        lines_prefs.append(l)\n",
    "    else:\n",
    "        lines_units.append(l)\n",
    "lines_units"
   ]
  },
  {
   "cell_type": "code",
   "execution_count": null,
   "metadata": {},
   "outputs": [],
   "source": [
    "temp_dict = {}\n",
    "\n",
    "farsi = {}\n",
    "\n",
    "for l in lines_units[2:]:\n",
    "    for idx in range(len(l)):\n",
    "        if idx == 1:\n",
    "            continue\n",
    "        temp_dict[l[idx]] = l[0]\n",
    "    farsi[l[0]] = \"\"\n",
    "\n",
    "with open('farsi_required.txt', 'w', encoding='utf-8') as file:\n",
    "    json.dump(farsi, file, indent=4)"
   ]
  }
 ],
 "metadata": {
  "language_info": {
   "name": "python"
  },
  "orig_nbformat": 4
 },
 "nbformat": 4,
 "nbformat_minor": 2
}
