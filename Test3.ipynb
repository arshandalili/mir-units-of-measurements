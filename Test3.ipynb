{
 "cells": [
  {
   "cell_type": "code",
   "execution_count": 4,
   "metadata": {},
   "outputs": [],
   "source": [
    "import pint\n"
   ]
  },
  {
   "cell_type": "code",
   "execution_count": 17,
   "metadata": {},
   "outputs": [
    {
     "data": {
      "text/plain": [
       "'meter / second'"
      ]
     },
     "execution_count": 17,
     "metadata": {},
     "output_type": "execute_result"
    }
   ],
   "source": [
    "from unit_extractor import *\n",
    "\n",
    "with open('resources/dataset/quantities.json', 'r', encoding='utf-8') as file:\n",
    "    quantites_dict = json.load(file)\n",
    "\n",
    "\n",
    "BASE_UNITS = {\n",
    "    '[length]': 'm',\n",
    "    '[mass]': 'kg',\n",
    "    '[time]': 's',\n",
    "    '[current]': 'amp',\n",
    "    '[temperature]': 'kelvin',\n",
    "    '[substance]': 'mol',\n",
    "    '[luminosity]': 'candela'\n",
    "}\n",
    "\n",
    "def quantity_to_SI_unit(quantity):\n",
    "    dimensionality_dict = quantites_dict[quantity]\n",
    "    units_dict = {BASE_UNITS[k]: v for k, v in dimensionality_dict.items()}\n",
    "    units_str = '*'.join([f'({k}**{v})' for k, v in units_dict.items()])\n",
    "    ureg = pint.UnitRegistry()\n",
    "    return str(ureg(units_str).to_base_units().units)\n",
    "\n",
    "quantity_to_SI_unit('سرعت')\n",
    "\n"
   ]
  },
  {
   "cell_type": "code",
   "execution_count": null,
   "metadata": {},
   "outputs": [],
   "source": [
    "def dict_to_str(unit_dict):\n",
    "    "
   ]
  }
 ],
 "metadata": {
  "interpreter": {
   "hash": "aee8b7b246df8f9039afb4144a1f6fd8d2ca17a180786b69acc140d282b71a49"
  },
  "kernelspec": {
   "display_name": "Python 3.8.1 64-bit",
   "language": "python",
   "name": "python3"
  },
  "language_info": {
   "codemirror_mode": {
    "name": "ipython",
    "version": 3
   },
   "file_extension": ".py",
   "mimetype": "text/x-python",
   "name": "python",
   "nbconvert_exporter": "python",
   "pygments_lexer": "ipython3",
   "version": "3.8.1"
  },
  "orig_nbformat": 4
 },
 "nbformat": 4,
 "nbformat_minor": 2
}
