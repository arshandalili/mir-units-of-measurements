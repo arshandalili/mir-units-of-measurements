{
 "cells": [
  {
   "cell_type": "code",
   "execution_count": 23,
   "metadata": {},
   "outputs": [],
   "source": [
    "quantities = {}"
   ]
  },
  {
   "cell_type": "code",
   "execution_count": 24,
   "metadata": {},
   "outputs": [],
   "source": [
    "convert_dim = {\n",
    "    'L': '[length]',\n",
    "    'M': '[mass]',\n",
    "    'T': '[time]',\n",
    "    'I': '[current]',\n",
    "    'Θ': '[temperature]',\n",
    "    'N': '[substance]',\n",
    "    'J': '[luminosity]'\n",
    "}"
   ]
  },
  {
   "cell_type": "code",
   "execution_count": 25,
   "metadata": {},
   "outputs": [],
   "source": [
    "def add_str_to_dict(name, form):\n",
    "    form = form.replace(u\"\\u2212\", '-')    \n",
    "    form = form.split()\n",
    "    temp_dict = {}\n",
    "    for i in form:\n",
    "        unit_name = convert_dim[i[0]]\n",
    "        if len(i) == 1:\n",
    "            temp_dict[unit_name] = 1\n",
    "        else:\n",
    "            temp_dict[unit_name] = int(i[1:])\n",
    "    quantities[name] = temp_dict"
   ]
  },
  {
   "cell_type": "code",
   "execution_count": 26,
   "metadata": {},
   "outputs": [
    {
     "data": {
      "text/plain": [
       "{'شتاب': {'[length]': 1, '[time]': -2},\n",
       " 'تکانه زاویه\\u200cای': {'[mass]': 1, '[length]': 2, '[time]': -1},\n",
       " 'مساحت': {'[length]': 2},\n",
       " 'چگالی سطح': {'[mass]': 1, '[length]': -2},\n",
       " 'ظرفیت': {'[mass]': -1, '[length]': -2, '[time]': 4, '[current]': 2},\n",
       " 'پتانسیل شیمیایی': {'[mass]': 1,\n",
       "  '[length]': 2,\n",
       "  '[time]': -2,\n",
       "  '[substance]': -1},\n",
       " 'چگالی جریان': {'[length]': -2, '[current]': 1},\n",
       " 'بار الکتریکی': {'[time]': 1, '[current]': 1},\n",
       " 'پتانسیل الکتریکی': {'[mass]': 1,\n",
       "  '[length]': 2,\n",
       "  '[time]': -3,\n",
       "  '[current]': -1},\n",
       " 'مقاومت الکتریکی': {'[mass]': 1,\n",
       "  '[length]': 2,\n",
       "  '[time]': -3,\n",
       "  '[current]': -2},\n",
       " 'چگالی بار الگتریکی': {'[length]': -3, '[time]': 1, '[current]': 1},\n",
       " 'انرژی': {'[mass]': 1, '[length]': 2, '[time]': -2},\n",
       " 'توان': {'[mass]': 1, '[length]': 2, '[time]': -3},\n",
       " 'فشار': {'[mass]': 1, '[length]': -1, '[time]': -2},\n",
       " 'گشتاور': {'[mass]': 1, '[length]': 2, '[time]': -2},\n",
       " 'سرعت': {'[length]': 1, '[time]': -1},\n",
       " 'حجم': {'[length]': 3},\n",
       " 'طول': {'[length]': 1},\n",
       " 'جرم': {'[mass]': 1},\n",
       " 'زمان': {'[time]': 1},\n",
       " 'جریان': {'[current]': 1},\n",
       " 'دما': {'[temperature]': 1},\n",
       " 'مقدار ماده': {'[substance]': 1},\n",
       " 'شدت روشنایی': {'[luminosity]': 1}}"
      ]
     },
     "execution_count": 26,
     "metadata": {},
     "output_type": "execute_result"
    }
   ],
   "source": [
    "add_str_to_dict('شتاب', 'L T−2')\n",
    "\n",
    "add_str_to_dict('تکانه زاویه‌ای', 'M L2 T−1')\n",
    "\n",
    "add_str_to_dict('مساحت', 'L2')\n",
    "\n",
    "add_str_to_dict('چگالی سطح', 'M L−2')\n",
    "\n",
    "add_str_to_dict('ظرفیت', 'M−1 L−2 T4 I2')\n",
    "\n",
    "add_str_to_dict('پتانسیل شیمیایی', 'M L2 T−2 N−1')\n",
    "\n",
    "add_str_to_dict('چگالی جریان', 'L−2 I')\n",
    "\n",
    "add_str_to_dict('بار الکتریکی', 'T I')\n",
    "\n",
    "add_str_to_dict('پتانسیل الکتریکی', 'M L2 T−3 I−1')\n",
    "\n",
    "add_str_to_dict('مقاومت الکتریکی', 'M L2 T−3 I−2')\n",
    "\n",
    "add_str_to_dict('چگالی بار الگتریکی', 'L−3 T I')\n",
    "\n",
    "add_str_to_dict('انرژی', 'M L2 T−2')\n",
    "\n",
    "add_str_to_dict('توان', 'M L2 T−3')\n",
    "\n",
    "add_str_to_dict('فشار', 'M L−1 T−2')\n",
    "\n",
    "add_str_to_dict('گشتاور', 'M L2 T−2')\n",
    "\n",
    "add_str_to_dict('سرعت', 'L T−1')\n",
    "\n",
    "add_str_to_dict('حجم', 'L3')\n",
    "\n",
    "add_str_to_dict('طول', 'L')\n",
    "\n",
    "add_str_to_dict('جرم', 'M')\n",
    "\n",
    "add_str_to_dict('زمان', 'T')\n",
    "\n",
    "add_str_to_dict('جریان', 'I')\n",
    "\n",
    "add_str_to_dict('دما', 'Θ')\n",
    "\n",
    "add_str_to_dict('مقدار ماده', 'N')\n",
    "\n",
    "add_str_to_dict('شدت روشنایی', 'J')\n",
    "\n",
    "\n",
    "quantities"
   ]
  },
  {
   "cell_type": "code",
   "execution_count": 27,
   "metadata": {},
   "outputs": [],
   "source": [
    "import json\n",
    "with open('quantities.json', 'w', encoding='utf-8') as fp:\n",
    "    json.dump(quantities, fp, indent=4)"
   ]
  },
  {
   "cell_type": "code",
   "execution_count": 48,
   "metadata": {},
   "outputs": [],
   "source": [
    "import pint\n",
    "\n",
    "ureg = pint.UnitRegistry()\n",
    "a = 2 * ureg('au')\n",
    "\n",
    "quantities = None\n",
    "with open('quantities.json', 'r', encoding='utf-8') as fp:\n",
    "    quantities = json.load(fp)\n",
    "\n",
    "\n"
   ]
  },
  {
   "cell_type": "code",
   "execution_count": 49,
   "metadata": {},
   "outputs": [
    {
     "data": {
      "text/plain": [
       "{'[length]': 1}"
      ]
     },
     "execution_count": 49,
     "metadata": {},
     "output_type": "execute_result"
    }
   ],
   "source": [
    "dict(a.dimensionality)"
   ]
  },
  {
   "cell_type": "code",
   "execution_count": 50,
   "metadata": {},
   "outputs": [],
   "source": [
    "def dict_to_quantity(units_dict):\n",
    "    for k, v in quantities.items():\n",
    "        if v == units_dict:\n",
    "            print(k)"
   ]
  },
  {
   "cell_type": "code",
   "execution_count": 51,
   "metadata": {},
   "outputs": [
    {
     "name": "stdout",
     "output_type": "stream",
     "text": [
      "طول\n"
     ]
    }
   ],
   "source": [
    "dict_to_quantity(dict(a.dimensionality))"
   ]
  },
  {
   "cell_type": "code",
   "execution_count": null,
   "metadata": {},
   "outputs": [],
   "source": []
  },
  {
   "cell_type": "code",
   "execution_count": null,
   "metadata": {},
   "outputs": [],
   "source": []
  }
 ],
 "metadata": {
  "interpreter": {
   "hash": "a78e5bf1b2671d60bd6da117be21fdbc9fac13762871a45216d3927d388d0255"
  },
  "kernelspec": {
   "display_name": "Python 3.9.12 ('base')",
   "language": "python",
   "name": "python3"
  },
  "language_info": {
   "codemirror_mode": {
    "name": "ipython",
    "version": 3
   },
   "file_extension": ".py",
   "mimetype": "text/x-python",
   "name": "python",
   "nbconvert_exporter": "python",
   "pygments_lexer": "ipython3",
   "version": "3.9.12"
  },
  "orig_nbformat": 4
 },
 "nbformat": 4,
 "nbformat_minor": 2
}
