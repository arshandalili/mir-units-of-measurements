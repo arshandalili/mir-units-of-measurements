{
 "cells": [
  {
   "cell_type": "code",
   "execution_count": 13,
   "metadata": {},
   "outputs": [],
   "source": [
    "import json\n",
    "import pint\n",
    "\n",
    "def add_str_to_dict(name, form):\n",
    "    quantities = None\n",
    "    with open('resources/dataset/quantities.json', 'r', encoding='utf-8') as fp:\n",
    "        quantities = json.load(fp)\n",
    "    form = form.replace(u\"\\u2212\", '-')    \n",
    "    form = form.split()\n",
    "    temp_dict = {}\n",
    "    for i in form:\n",
    "        unit_name = convert_dim[i[0]]\n",
    "        if len(i) == 1:\n",
    "            temp_dict[unit_name] = 1\n",
    "        else:\n",
    "            temp_dict[unit_name] = int(i[1:])\n",
    "    quantities[name] = temp_dict\n",
    "    with open('resources/dataset/quantities.json', 'w', encoding='utf-8') as fp:\n",
    "        json.dump(quantities, fp, indent=4)\n",
    "\n",
    "\n",
    "\n",
    "\n",
    "quantities = {}\n",
    "convert_dim = {\n",
    "    'L': '[length]',\n",
    "    'M': '[mass]',\n",
    "    'T': '[time]',\n",
    "    'I': '[current]',\n",
    "    'Θ': '[temperature]',\n",
    "    'N': '[substance]',\n",
    "    'J': '[luminosity]'\n",
    "}\n"
   ]
  },
  {
   "cell_type": "code",
   "execution_count": 14,
   "metadata": {},
   "outputs": [
    {
     "data": {
      "text/plain": [
       "{}"
      ]
     },
     "execution_count": 14,
     "metadata": {},
     "output_type": "execute_result"
    }
   ],
   "source": [
    "add_str_to_dict('شتاب', 'L T−2')\n",
    "\n",
    "add_str_to_dict('تکانه زاویه‌ای', 'M L2 T−1')\n",
    "\n",
    "add_str_to_dict('مساحت', 'L2')\n",
    "\n",
    "add_str_to_dict('چگالی سطح', 'M L−2')\n",
    "\n",
    "add_str_to_dict('ظرفیت', 'M−1 L−2 T4 I2')\n",
    "\n",
    "add_str_to_dict('پتانسیل شیمیایی', 'M L2 T−2 N−1')\n",
    "\n",
    "add_str_to_dict('چگالی جریان', 'L−2 I')\n",
    "\n",
    "add_str_to_dict('بار الکتریکی', 'T I')\n",
    "\n",
    "add_str_to_dict('پتانسیل الکتریکی', 'M L2 T−3 I−1')\n",
    "\n",
    "add_str_to_dict('مقاومت الکتریکی', 'M L2 T−3 I−2')\n",
    "\n",
    "add_str_to_dict('چگالی بار الگتریکی', 'L−3 T I')\n",
    "\n",
    "add_str_to_dict('انرژی', 'M L2 T−2')\n",
    "\n",
    "add_str_to_dict('توان', 'M L2 T−3')\n",
    "\n",
    "add_str_to_dict('فشار', 'M L−1 T−2')\n",
    "\n",
    "add_str_to_dict('گشتاور', 'M L2 T−2')\n",
    "\n",
    "add_str_to_dict('سرعت', 'L T−1')\n",
    "\n",
    "add_str_to_dict('حجم', 'L3')\n",
    "\n",
    "add_str_to_dict('طول', 'L')\n",
    "\n",
    "add_str_to_dict('جرم', 'M')\n",
    "\n",
    "add_str_to_dict('زمان', 'T')\n",
    "\n",
    "add_str_to_dict('جریان', 'I')\n",
    "\n",
    "add_str_to_dict('دما', 'Θ')\n",
    "\n",
    "add_str_to_dict('مقدار ماده', 'N')\n",
    "\n",
    "add_str_to_dict('شدت روشنایی', 'J')\n",
    "\n",
    "add_str_to_dict('نیرو', 'M L T-2')\n",
    "\n",
    "quantities"
   ]
  },
  {
   "cell_type": "code",
   "execution_count": 15,
   "metadata": {},
   "outputs": [],
   "source": [
    "import pint\n",
    "import json\n",
    "\n",
    "ureg = pint.UnitRegistry()\n",
    "\n",
    "quantities = None\n",
    "with open('resources/dataset/quantities.json', 'r', encoding='utf-8') as fp:\n",
    "    quantities = json.load(fp)\n",
    "\n",
    "with open('resources/dataset/quantities.json', 'w', encoding='utf-8') as fp:\n",
    "    json.dump(quantities, fp, indent=4)\n",
    "\n",
    "\n",
    "def dict_to_quantity(units_dict):\n",
    "    for k, v in quantities.items():\n",
    "        if v == units_dict:\n",
    "            print(k)"
   ]
  },
  {
   "cell_type": "code",
   "execution_count": 19,
   "metadata": {},
   "outputs": [
    {
     "data": {
      "text/plain": [
       "{'[mass]': 1, '[length]': 1, '[time]': -2}"
      ]
     },
     "execution_count": 19,
     "metadata": {},
     "output_type": "execute_result"
    }
   ],
   "source": [
    "quantities['نیرو']"
   ]
  },
  {
   "cell_type": "code",
   "execution_count": 24,
   "metadata": {},
   "outputs": [],
   "source": [
    "import json\n",
    "\n",
    "units = None\n",
    "with open('resources/dataset/units.json', 'r', encoding='utf-8') as fp:\n",
    "    units = json.load(fp)\n",
    "units['کلوین'] = 'K'\n",
    "with open('resources/dataset/units.json', 'w', encoding='utf-8') as fp:\n",
    "    json.dump(units, fp, indent=4)\n"
   ]
  },
  {
   "cell_type": "code",
   "execution_count": 28,
   "metadata": {},
   "outputs": [],
   "source": [
    "sortedlist = sorted(units.items(), key=lambda s: -len(s[0]))\n",
    "dict(sortedlist)\n",
    "with open('resources/dataset/units.json', 'w', encoding='utf-8') as fp:\n",
    "    json.dump(dict(sortedlist), fp, indent=4)"
   ]
  },
  {
   "cell_type": "code",
   "execution_count": 70,
   "metadata": {},
   "outputs": [
    {
     "data": {
      "text/html": [
       "1 centimeter"
      ],
      "text/latex": [
       "$1\\ \\mathrm{centimeter}$"
      ],
      "text/plain": [
       "1 <Unit('centimeter')>"
      ]
     },
     "execution_count": 70,
     "metadata": {},
     "output_type": "execute_result"
    }
   ],
   "source": [
    "a = ureg('centimeter')\n",
    "a"
   ]
  },
  {
   "cell_type": "code",
   "execution_count": 72,
   "metadata": {},
   "outputs": [
    {
     "data": {
      "text/html": [
       "1 kilogram"
      ],
      "text/latex": [
       "$1\\ \\mathrm{kilogram}$"
      ],
      "text/plain": [
       "1 <Unit('kilogram')>"
      ]
     },
     "execution_count": 72,
     "metadata": {},
     "output_type": "execute_result"
    }
   ],
   "source": [
    "a = ureg('kilogram')\n",
    "a"
   ]
  },
  {
   "cell_type": "code",
   "execution_count": 73,
   "metadata": {},
   "outputs": [
    {
     "data": {
      "text/plain": [
       "['skpo sdifiosf keokforer ']"
      ]
     },
     "execution_count": 73,
     "metadata": {},
     "output_type": "execute_result"
    }
   ],
   "source": [
    "'skpo sdifiosf keokforer '.split('=')"
   ]
  },
  {
   "cell_type": "code",
   "execution_count": 76,
   "metadata": {},
   "outputs": [
    {
     "data": {
      "text/html": [
       "1 inch_H2O_39F"
      ],
      "text/latex": [
       "$1\\ \\mathrm{inch\\_H2O\\_39F}$"
      ],
      "text/plain": [
       "1 <Unit('inch_H2O_39F')>"
      ]
     },
     "execution_count": 76,
     "metadata": {},
     "output_type": "execute_result"
    }
   ],
   "source": [
    "a = ureg('inch_H2O_39F')\n",
    "a"
   ]
  },
  {
   "cell_type": "code",
   "execution_count": null,
   "metadata": {},
   "outputs": [],
   "source": []
  }
 ],
 "metadata": {
  "interpreter": {
   "hash": "a78e5bf1b2671d60bd6da117be21fdbc9fac13762871a45216d3927d388d0255"
  },
  "kernelspec": {
   "display_name": "Python 3.9.12 ('base')",
   "language": "python",
   "name": "python3"
  },
  "language_info": {
   "codemirror_mode": {
    "name": "ipython",
    "version": 3
   },
   "file_extension": ".py",
   "mimetype": "text/x-python",
   "name": "python",
   "nbconvert_exporter": "python",
   "pygments_lexer": "ipython3",
   "version": "3.9.12"
  },
  "orig_nbformat": 4
 },
 "nbformat": 4,
 "nbformat_minor": 2
}
