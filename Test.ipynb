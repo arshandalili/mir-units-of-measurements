{
 "cells": [
  {
   "cell_type": "code",
   "execution_count": 8,
   "metadata": {},
   "outputs": [
    {
     "data": {
      "text/plain": [
       "[]"
      ]
     },
     "execution_count": 8,
     "metadata": {},
     "output_type": "execute_result"
    }
   ],
   "source": [
    "import re\n",
    "from parsi_io.modules.number_extractor.pattern import *\n",
    "\n",
    "UNIT_RE = \"(ثانیه|متر|گرم|وات)\"  # TODO: A function to get all units\n",
    "PREF_RE = \"(کیلو|سانتی)\"  # TODO: A function to get all prefixes\n",
    "UNIT_PREF_RE = f\"({PREF_RE}?{UNIT_RE})\"\n",
    "UNIT_PREF_DIM_RE = f\"(({UNIT_PREF_RE}( (مربع|مکعب))?)|(((مربع|مکعب|مجذور) )?{UNIT_PREF_RE}))\"\n",
    "UNIT_PREF_DIM_SEQ_RE = f\"({UNIT_PREF_DIM_RE}( (در )?{UNIT_PREF_DIM_RE})*)\"\n",
    "COMPLEX_UNIT_RE = f\"({UNIT_PREF_DIM_SEQ_RE}( بر {UNIT_PREF_DIM_SEQ_RE})*)\"\n",
    "\n",
    "pattern = f\"\"\n",
    "\n",
    "text = \" سه کیلوگرم سیب \"\n",
    "\n",
    "x = re.findall(pattern, text)\n",
    "x"
   ]
  },
  {
   "cell_type": "code",
   "execution_count": null,
   "metadata": {},
   "outputs": [],
   "source": []
  }
 ],
 "metadata": {
  "interpreter": {
   "hash": "a78e5bf1b2671d60bd6da117be21fdbc9fac13762871a45216d3927d388d0255"
  },
  "kernelspec": {
   "display_name": "Python 3.9.12 ('base')",
   "language": "python",
   "name": "python3"
  },
  "language_info": {
   "codemirror_mode": {
    "name": "ipython",
    "version": 3
   },
   "file_extension": ".py",
   "mimetype": "text/x-python",
   "name": "python",
   "nbconvert_exporter": "python",
   "pygments_lexer": "ipython3",
   "version": "3.9.12"
  },
  "orig_nbformat": 4
 },
 "nbformat": 4,
 "nbformat_minor": 2
}
