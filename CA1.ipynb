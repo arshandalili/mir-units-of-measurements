{
 "cells": [
  {
   "cell_type": "code",
   "execution_count": 1,
   "metadata": {},
   "outputs": [
    {
     "data": {
      "text/plain": [
       "0.6"
      ]
     },
     "execution_count": 1,
     "metadata": {},
     "output_type": "execute_result"
    }
   ],
   "source": [
    "from parsi_io.modules.number_extractor import NumberExtractor\n",
    "extractor = NumberExtractor()\n",
    "res = extractor.run('پانزده بیست و پنجم ')\n",
    "res[0]['value'] / res[1]['value']"
   ]
  },
  {
   "cell_type": "code",
   "execution_count": 3,
   "metadata": {},
   "outputs": [
    {
     "name": "stdout",
     "output_type": "stream",
     "text": [
      "Collecting hazm\n",
      "  Downloading hazm-0.7.0-py3-none-any.whl (316 kB)\n",
      "\u001b[K     |████████████████████████████████| 316 kB 586 kB/s eta 0:00:01\n",
      "\u001b[?25hCollecting libwapiti>=0.2.1\n",
      "  Downloading libwapiti-0.2.1.tar.gz (233 kB)\n",
      "\u001b[K     |████████████████████████████████| 233 kB 4.7 MB/s eta 0:00:01\n",
      "\u001b[?25hCollecting nltk==3.3\n",
      "  Downloading nltk-3.3.0.zip (1.4 MB)\n",
      "\u001b[K     |████████████████████████████████| 1.4 MB 1.9 MB/s eta 0:00:01\n",
      "\u001b[?25hRequirement already satisfied: six in /Users/arshandalili/opt/anaconda3/lib/python3.9/site-packages (from nltk==3.3->hazm) (1.16.0)\n",
      "Building wheels for collected packages: nltk, libwapiti\n",
      "  Building wheel for nltk (setup.py) ... \u001b[?25ldone\n",
      "\u001b[?25h  Created wheel for nltk: filename=nltk-3.3-py3-none-any.whl size=1394486 sha256=a0fdd0d0b0acd8c1dbd54bec3ff6de24f5c6095f14d99ac7a55f87850f08df4c\n",
      "  Stored in directory: /Users/arshandalili/Library/Caches/pip/wheels/ac/62/f6/88933dadcd64a1614894614aa68cf57c4b8e5256acb650b1f1\n",
      "  Building wheel for libwapiti (setup.py) ... \u001b[?25ldone\n",
      "\u001b[?25h  Created wheel for libwapiti: filename=libwapiti-0.2.1-cp39-cp39-macosx_10_9_x86_64.whl size=57436 sha256=ed81ec2ea753a74470b2a9313a64abc3c83060fa0e5fd918bae3c191a83d2d8b\n",
      "  Stored in directory: /Users/arshandalili/Library/Caches/pip/wheels/8e/ff/82/9326b96f96f47472e02c453697b225813e4650c0ed4df2cd49\n",
      "Successfully built nltk libwapiti\n",
      "Installing collected packages: nltk, libwapiti, hazm\n",
      "  Attempting uninstall: nltk\n",
      "    Found existing installation: nltk 3.7\n",
      "    Uninstalling nltk-3.7:\n",
      "      Successfully uninstalled nltk-3.7\n",
      "Successfully installed hazm-0.7.0 libwapiti-0.2.1 nltk-3.3\n"
     ]
    }
   ],
   "source": [
    "! pip install hazm"
   ]
  },
  {
   "cell_type": "code",
   "execution_count": 7,
   "metadata": {},
   "outputs": [
    {
     "data": {
      "text/plain": [
       "[{'span': [0, 2], 'phrase': 'یک', 'value': 1},\n",
       " {'span': [4, 6], 'phrase': 'دو', 'value': 2},\n",
       " {'span': [8, 10], 'phrase': 'سه', 'value': 3},\n",
       " {'span': [12, 16], 'phrase': 'چهار', 'value': 4},\n",
       " {'span': [18, 21], 'phrase': 'پنج', 'value': 5}]"
      ]
     },
     "execution_count": 7,
     "metadata": {},
     "output_type": "execute_result"
    }
   ],
   "source": [
    "from __future__ import unicode_literals\n",
    "from hazm import Normalizer\n",
    "\n",
    "normalizer = Normalizer()\n",
    "extractor.run(normalizer.normalize('یک ، دو ، سه،چهار،پنج کیلوگرم'))\n",
    "\n",
    "\n"
   ]
  },
  {
   "cell_type": "code",
   "execution_count": 2,
   "metadata": {},
   "outputs": [
    {
     "data": {
      "text/plain": [
       "[{'span': [0, 2], 'phrase': 'یک', 'value': 1},\n",
       " {'span': [4, 6], 'phrase': 'دو', 'value': 2},\n",
       " {'span': [8, 10], 'phrase': 'سه', 'value': 3}]"
      ]
     },
     "execution_count": 2,
     "metadata": {},
     "output_type": "execute_result"
    }
   ],
   "source": [
    "extractor.run('یک، دو، سه کیلوگرم')"
   ]
  },
  {
   "cell_type": "code",
   "execution_count": 2,
   "metadata": {},
   "outputs": [
    {
     "data": {
      "text/plain": [
       "[{'span': [0, 14], 'phrase': 'دو هزار و ششصد', 'value': 2600}]"
      ]
     },
     "execution_count": 2,
     "metadata": {},
     "output_type": "execute_result"
    }
   ],
   "source": [
    "extractor.run('دو هزار و ششصد')"
   ]
  },
  {
   "cell_type": "code",
   "execution_count": 3,
   "metadata": {},
   "outputs": [
    {
     "data": {
      "text/plain": [
       "[{'span': [0, 13], 'phrase': 'سی و چهار صدم', 'value': 30.04}]"
      ]
     },
     "execution_count": 3,
     "metadata": {},
     "output_type": "execute_result"
    }
   ],
   "source": [
    "extractor.run('سی و چهار صدم')"
   ]
  },
  {
   "cell_type": "code",
   "execution_count": 4,
   "metadata": {},
   "outputs": [
    {
     "data": {
      "text/plain": [
       "[{'span': [0, 2], 'phrase': 'دو', 'value': 2}]"
      ]
     },
     "execution_count": 4,
     "metadata": {},
     "output_type": "execute_result"
    }
   ],
   "source": [
    "extractor.run('دوم ')"
   ]
  },
  {
   "cell_type": "code",
   "execution_count": 8,
   "metadata": {},
   "outputs": [
    {
     "data": {
      "text/plain": [
       "0.7352941176470589"
      ]
     },
     "execution_count": 8,
     "metadata": {},
     "output_type": "execute_result"
    }
   ],
   "source": [
    "res = extractor.run('بیست و پنج سی و چهارم ')\n",
    "res[0]['value'] / res[1]['value']"
   ]
  },
  {
   "cell_type": "code",
   "execution_count": 12,
   "metadata": {},
   "outputs": [
    {
     "data": {
      "text/plain": [
       "[{'span': [0, 4], 'phrase': 'بیست', 'value': 20},\n",
       " {'span': [7, 9], 'phrase': 'صد', 'value': 100}]"
      ]
     },
     "execution_count": 12,
     "metadata": {},
     "output_type": "execute_result"
    }
   ],
   "source": [
    "extractor.run('بیست درصد  ')"
   ]
  },
  {
   "cell_type": "code",
   "execution_count": 5,
   "metadata": {},
   "outputs": [
    {
     "data": {
      "text/plain": [
       "[{'span': [4, 7], 'phrase': '۳.۵', 'value': 3.5},\n",
       " {'span': [40, 55], 'phrase': 'هشتاد و پنج صدم', 'value': 80.05}]"
      ]
     },
     "execution_count": 5,
     "metadata": {},
     "output_type": "execute_result"
    }
   ],
   "source": [
    "extractor.run('علی ۳.۵ کیلوگرم آرد خرید و باتری خود را هشتاد و پنج صدم وات شارژ کرد.')"
   ]
  },
  {
   "cell_type": "code",
   "execution_count": 1,
   "metadata": {},
   "outputs": [
    {
     "name": "stdout",
     "output_type": "stream",
     "text": [
      "Collecting pint\n",
      "  Using cached Pint-0.19.1.tar.gz (290 kB)\n",
      "  Installing build dependencies ... \u001b[?25ldone\n",
      "\u001b[?25h  Getting requirements to build wheel ... \u001b[?25ldone\n",
      "\u001b[?25h    Preparing wheel metadata ... \u001b[?25ldone\n",
      "\u001b[?25hBuilding wheels for collected packages: pint\n",
      "  Building wheel for pint (PEP 517) ... \u001b[?25ldone\n",
      "\u001b[?25h  Created wheel for pint: filename=Pint-0.19.1-py3-none-any.whl size=229693 sha256=9747ac6331c741ebf78e30b477fd7d3bf135797fb37c114f8aadccd90cf24117\n",
      "  Stored in directory: /Users/arshandalili/Library/Caches/pip/wheels/e4/ca/1b/c9acd943fb0b828f2641c22c6e984586c73662af8b06d6c85e\n",
      "Successfully built pint\n",
      "Installing collected packages: pint\n",
      "Successfully installed pint-0.19.1\n"
     ]
    }
   ],
   "source": [
    "! pip install -U pint"
   ]
  },
  {
   "cell_type": "code",
   "execution_count": 1,
   "metadata": {},
   "outputs": [],
   "source": [
    "import pint\n",
    "\n",
    "ureg = pint.UnitRegistry()"
   ]
  },
  {
   "cell_type": "code",
   "execution_count": 10,
   "metadata": {},
   "outputs": [
    {
     "data": {
      "text/plain": [
       "pint.quantity.build_quantity_class.<locals>.Quantity"
      ]
     },
     "execution_count": 10,
     "metadata": {},
     "output_type": "execute_result"
    }
   ],
   "source": [
    "speed = ureg('m') / ureg('second')\n",
    "type(speed)"
   ]
  },
  {
   "cell_type": "code",
   "execution_count": 11,
   "metadata": {},
   "outputs": [
    {
     "data": {
      "text/html": [
       "24.0 meter/second"
      ],
      "text/latex": [
       "$24.0\\ \\frac{\\mathrm{meter}}{\\mathrm{second}}$"
      ],
      "text/plain": [
       "24.0 <Unit('meter / second')>"
      ]
     },
     "execution_count": 11,
     "metadata": {},
     "output_type": "execute_result"
    }
   ],
   "source": [
    "a = 24 * speed\n",
    "a\n",
    "\n"
   ]
  },
  {
   "cell_type": "code",
   "execution_count": 12,
   "metadata": {},
   "outputs": [
    {
     "data": {
      "text/html": [
       "3401574.803149606 inch/hour"
      ],
      "text/latex": [
       "$3401574.803149606\\ \\frac{\\mathrm{inch}}{\\mathrm{hour}}$"
      ],
      "text/plain": [
       "3401574.803149606 <Unit('inch / hour')>"
      ]
     },
     "execution_count": 12,
     "metadata": {},
     "output_type": "execute_result"
    }
   ],
   "source": [
    "a.to('inch/hour')"
   ]
  },
  {
   "cell_type": "code",
   "execution_count": 15,
   "metadata": {},
   "outputs": [
    {
     "data": {
      "text/html": [
       "1.0 kilocandela kilometer<sup>3</sup>/(meter<sup>3</sup> second)"
      ],
      "text/latex": [
       "$1.0\\ \\frac{\\mathrm{kilocandela} \\cdot \\mathrm{kilometer}^{3}}{\\left(\\mathrm{meter}^{3} \\cdot \\mathrm{second}\\right)}$"
      ],
      "text/plain": [
       "1.0 <Unit('kilocandela * kilometer ** 3 / meter ** 3 / second')>"
      ]
     },
     "execution_count": 15,
     "metadata": {},
     "output_type": "execute_result"
    }
   ],
   "source": [
    "density = ureg('(kcandela**2) * (km**3) / ((m**3) * s)')\n",
    "density"
   ]
  },
  {
   "cell_type": "code",
   "execution_count": 20,
   "metadata": {},
   "outputs": [
    {
     "data": {
      "text/plain": [
       "'((kcandela**2) * (km**3))'"
      ]
     },
     "execution_count": 20,
     "metadata": {},
     "output_type": "execute_result"
    }
   ],
   "source": [
    "'(' + \" * \".join(['(kcandela**2)', \"(km**3)\"]) + ')'"
   ]
  },
  {
   "cell_type": "code",
   "execution_count": 16,
   "metadata": {},
   "outputs": [
    {
     "data": {
      "text/html": [
       "54.0 kilocandela kilometer<sup>3</sup>/(meter<sup>3</sup> second)"
      ],
      "text/latex": [
       "$54.0\\ \\frac{\\mathrm{kilocandela} \\cdot \\mathrm{kilometer}^{3}}{\\left(\\mathrm{meter}^{3} \\cdot \\mathrm{second}\\right)}$"
      ],
      "text/plain": [
       "54.0 <Unit('kilocandela * kilometer ** 3 / meter ** 3 / second')>"
      ]
     },
     "execution_count": 16,
     "metadata": {},
     "output_type": "execute_result"
    }
   ],
   "source": [
    "a = 54 * density\n",
    "a"
   ]
  },
  {
   "cell_type": "code",
   "execution_count": 18,
   "metadata": {},
   "outputs": [
    {
     "data": {
      "text/html": [
       "1.9069920029603844 megafoot<sup>3</sup> millicandela/(meter<sup>3</sup> second)"
      ],
      "text/latex": [
       "$1.9069920029603844\\ \\frac{\\mathrm{megafoot}^{3} \\cdot \\mathrm{millicandela}}{\\left(\\mathrm{meter}^{3} \\cdot \\mathrm{second}\\right)}$"
      ],
      "text/plain": [
       "1.9069920029603844 <Unit('megafoot ** 3 * millicandela / meter ** 3 / second')>"
      ]
     },
     "execution_count": 18,
     "metadata": {},
     "output_type": "execute_result"
    }
   ],
   "source": [
    "a.to('(mcandela**1) * (Mft**3) / ((m**3) * s)')"
   ]
  },
  {
   "cell_type": "code",
   "execution_count": 42,
   "metadata": {},
   "outputs": [
    {
     "data": {
      "text/html": [
       "5.4×10<sup>16</sup> candela<sup>2</sup>/second"
      ],
      "text/latex": [
       "$5.4\\times 10^{16}\\ \\frac{\\mathrm{candela}^{2}}{\\mathrm{second}}$"
      ],
      "text/plain": [
       "5.4e+16 <Unit('candela ** 2 / second')>"
      ]
     },
     "execution_count": 42,
     "metadata": {},
     "output_type": "execute_result"
    }
   ],
   "source": [
    "a.to_base_units()"
   ]
  },
  {
   "cell_type": "code",
   "execution_count": 44,
   "metadata": {},
   "outputs": [
    {
     "data": {
      "text/html": [
       "54000000000.0 kilocandela<sup>2</sup>/second"
      ],
      "text/latex": [
       "$54000000000.0\\ \\frac{\\mathrm{kilocandela}^{2}}{\\mathrm{second}}$"
      ],
      "text/plain": [
       "54000000000.0 <Unit('kilocandela ** 2 / second')>"
      ]
     },
     "execution_count": 44,
     "metadata": {},
     "output_type": "execute_result"
    }
   ],
   "source": [
    "a.to_reduced_units()"
   ]
  },
  {
   "cell_type": "code",
   "execution_count": null,
   "metadata": {},
   "outputs": [],
   "source": [
    "a"
   ]
  }
 ],
 "metadata": {
  "interpreter": {
   "hash": "0adcc2737ebf6a4a119f135174df96668767fca1ef1112612db5ecadf2b6d608"
  },
  "kernelspec": {
   "display_name": "Python 3.8.3 64-bit",
   "language": "python",
   "name": "python3"
  },
  "language_info": {
   "codemirror_mode": {
    "name": "ipython",
    "version": 3
   },
   "file_extension": ".py",
   "mimetype": "text/x-python",
   "name": "python",
   "nbconvert_exporter": "python",
   "pygments_lexer": "ipython3",
   "version": "3.9.12"
  },
  "orig_nbformat": 4
 },
 "nbformat": 4,
 "nbformat_minor": 2
}
