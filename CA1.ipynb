{
 "cells": [
  {
   "cell_type": "code",
   "execution_count": 1,
   "metadata": {
    "pycharm": {
     "name": "#%%\n"
    }
   },
   "outputs": [
    {
     "data": {
      "text/plain": [
       "0.6"
      ]
     },
     "execution_count": 1,
     "metadata": {},
     "output_type": "execute_result"
    }
   ],
   "source": [
    "from parsi_io.modules.number_extractor import NumberExtractor\n",
    "extractor = NumberExtractor()\n",
    "res = extractor.run('پانزده بیست و پنجم ')\n",
    "res[0]['value'] / res[1]['value']"
   ]
  },
  {
   "cell_type": "code",
   "execution_count": 17,
   "metadata": {},
   "outputs": [
    {
     "data": {
      "text/plain": [
       "[]"
      ]
     },
     "execution_count": 17,
     "metadata": {},
     "output_type": "execute_result"
    }
   ],
   "source": [
    "from parsi_io.modules.number_extractor.pattern import *\n",
    "\n",
    "import re\n",
    "\n",
    "txt = 'پانزده بیست و پنجم '\n",
    "x = re.findall(r'{PATTERN_SEARCH} {PATTERN_SEARCH}', txt)\n",
    "x"
   ]
  },
  {
   "cell_type": "code",
   "execution_count": 4,
   "metadata": {},
   "outputs": [
    {
     "data": {
      "text/plain": [
       "[{'span': [4, 15], 'phrase': 'یک ده هزارم', 'value': 0.0001}]"
      ]
     },
     "execution_count": 4,
     "metadata": {},
     "output_type": "execute_result"
    }
   ],
   "source": [
    "from parsi_io.modules.number_extractor import NumberExtractor\n",
    "extractor = NumberExtractor()\n",
    "res = extractor.run(' در یک ده هزارم سالگرد ')\n",
    "res"
   ]
  },
  {
   "cell_type": "code",
   "execution_count": 3,
   "metadata": {},
   "outputs": [
    {
     "data": {
      "text/plain": [
       "[{'span': [1, 20], 'phrase': 'صد و بیست و سه هزار', 'value': 123000},\n",
       " {'span': [25, 41], 'phrase': 'صد و  شصت و چهار', 'value': 164}]"
      ]
     },
     "execution_count": 3,
     "metadata": {},
     "output_type": "execute_result"
    }
   ],
   "source": [
    "res = extractor.run(' صد و بیست و سه هزار و سیصد و  شصت و چهار ')\n",
    "res"
   ]
  },
  {
   "cell_type": "code",
   "execution_count": 2,
   "metadata": {
    "pycharm": {
     "name": "#%%\n"
    }
   },
   "outputs": [
    {
     "data": {
      "text/plain": [
       "[{'span': [1, 6], 'phrase': 'پنجاه', 'value': 50},\n",
       " {'span': [9, 14], 'phrase': 'شش صد', 'value': 600}]"
      ]
     },
     "execution_count": 2,
     "metadata": {},
     "output_type": "execute_result"
    }
   ],
   "source": [
    "res = extractor.run(' پنجاه و شش صدم ')\n",
    "res"
   ]
  },
  {
   "cell_type": "code",
   "execution_count": 3,
   "metadata": {},
   "outputs": [
    {
     "data": {
      "text/plain": [
       "[{'span': [1, 31], 'phrase': 'بیست و سه هزار و صد و شصت و شش', 'value': 23166}]"
      ]
     },
     "execution_count": 3,
     "metadata": {},
     "output_type": "execute_result"
    }
   ],
   "source": [
    "res = extractor.run(' بیست و سه هزار و صد و شصت و شش ')\n",
    "res"
   ]
  },
  {
   "cell_type": "code",
   "execution_count": 16,
   "metadata": {},
   "outputs": [
    {
     "data": {
      "text/plain": [
       "[{'span': [1, 6], 'phrase': 'یک صد', 'value': 100}]"
      ]
     },
     "execution_count": 16,
     "metadata": {},
     "output_type": "execute_result"
    }
   ],
   "source": [
    "res = extractor.run(' یک صدم ')\n",
    "res"
   ]
  },
  {
   "cell_type": "code",
   "execution_count": 1,
   "metadata": {
    "pycharm": {
     "name": "#%%\n"
    }
   },
   "outputs": [
    {
     "ename": "ModuleNotFoundError",
     "evalue": "No module named 'hazm'",
     "output_type": "error",
     "traceback": [
      "\u001b[0;31m---------------------------------------------------------------------------\u001b[0m",
      "\u001b[0;31mModuleNotFoundError\u001b[0m                       Traceback (most recent call last)",
      "\u001b[1;32m/Users/arshandalili/Desktop/IR/HW1/mir-units-of-measurements/CA1.ipynb Cell 8'\u001b[0m in \u001b[0;36m<cell line: 2>\u001b[0;34m()\u001b[0m\n\u001b[1;32m      <a href='vscode-notebook-cell:/Users/arshandalili/Desktop/IR/HW1/mir-units-of-measurements/CA1.ipynb#ch0000007?line=0'>1</a>\u001b[0m \u001b[39mfrom\u001b[39;00m \u001b[39m__future__\u001b[39;00m \u001b[39mimport\u001b[39;00m unicode_literals\n\u001b[0;32m----> <a href='vscode-notebook-cell:/Users/arshandalili/Desktop/IR/HW1/mir-units-of-measurements/CA1.ipynb#ch0000007?line=1'>2</a>\u001b[0m \u001b[39mfrom\u001b[39;00m \u001b[39mhazm\u001b[39;00m \u001b[39mimport\u001b[39;00m \u001b[39m*\u001b[39m\n\u001b[1;32m      <a href='vscode-notebook-cell:/Users/arshandalili/Desktop/IR/HW1/mir-units-of-measurements/CA1.ipynb#ch0000007?line=4'>5</a>\u001b[0m normalizer \u001b[39m=\u001b[39m Normalizer()\n\u001b[1;32m      <a href='vscode-notebook-cell:/Users/arshandalili/Desktop/IR/HW1/mir-units-of-measurements/CA1.ipynb#ch0000007?line=5'>6</a>\u001b[0m normalizer\u001b[39m.\u001b[39mnormalize(\u001b[39m'\u001b[39m\u001b[39mاصلاح نويسه ها و استفاده از نیم‌فاصله پردازش را آسان مي كند\u001b[39m\u001b[39m'\u001b[39m)\n",
      "\u001b[0;31mModuleNotFoundError\u001b[0m: No module named 'hazm'"
     ]
    }
   ],
   "source": [
    "from __future__ import unicode_literals\n",
    "from hazm import *\n",
    "\n",
    "\n",
    "normalizer = Normalizer()\n",
    "normalizer.normalize('اصلاح نويسه ها و استفاده از نیم‌فاصله پردازش را آسان مي كند')\n",
    "\n"
   ]
  },
  {
   "cell_type": "code",
   "execution_count": 1,
   "metadata": {},
   "outputs": [
    {
     "name": "stdout",
     "output_type": "stream",
     "text": [
      "[{'marker': 'یک', 'span': (4, 6), 'value': 1}, {'marker': 'دو', 'span': (7, 9), 'value': 2}]\n"
     ]
    }
   ],
   "source": [
    "import re\n",
    "import unidecode\n",
    "\n",
    "def join_patterns(patterns, grouping=False):\n",
    "    return '(' + ('?:' if not grouping else '') + '|'.join(patterns) + ')'\n",
    "\n",
    "NUM_1_2_to_9_DICT = {\n",
    "    'یک': 1,\n",
    "    'دو': 2,\n",
    "    'سه': 3,\n",
    "    'سو': 3,\n",
    "    'چهار': 4,\n",
    "    'پنج': 5,\n",
    "    'شش': 6,\n",
    "    'هفت': 7,\n",
    "    'هشت': 8,\n",
    "    'نه': 9\n",
    "}\n",
    "\n",
    "NUM_10_11_to_19_DICT = {\n",
    "    'ده': 10,\n",
    "    'یازده': 11,\n",
    "    'دوازده': 12,\n",
    "    'سیزده': 13,\n",
    "    'چهارده': 14,\n",
    "    'پانزده': 15,\n",
    "    'شانزده': 16,\n",
    "    'هفده': 17,\n",
    "    'هجده': 18,\n",
    "    'نوزده': 19\n",
    "}\n",
    "\n",
    "NUM_20_30_to_90_DICT = {\n",
    "    'بیست': 20,\n",
    "    'سی': 30,\n",
    "    'چهل': 40,\n",
    "    'پنجاه': 50,\n",
    "    'شصت': 60,\n",
    "    'هفتاد': 70,\n",
    "    'هشتاد': 80,\n",
    "    'نود': 90,\n",
    "}\n",
    "\n",
    "NUM_100_200_to_900_DICT = {\n",
    "    'صد': 100,\n",
    "    'یکصد': 100,\n",
    "    'دویست': 200,\n",
    "    'سیصد': 300,\n",
    "    'چهارصد': 400,\n",
    "    'پانصد': 500,\n",
    "    'ششصد': 600,\n",
    "    'هفتصد': 700,\n",
    "    'هشتصد': 800,\n",
    "    'نهصد': 900\n",
    "}\n",
    "\n",
    "NUM_EXTENDER_DICT = {\n",
    "    'هزار': 1E3,\n",
    "    'میلیون': 1E6,\n",
    "    'میلیارد': 1E9\n",
    "}\n",
    "\n",
    "NUM_SPECIAL_FRACTION_DICT = {\n",
    "    'نیم': 1 / 2,\n",
    "    'نصف': 1 / 2,\n",
    "    'ثلث': 1 / 3,\n",
    "    'ربع': 1 / 4,\n",
    "    'خمس': 1 / 5\n",
    "}\n",
    "\n",
    "NUM_UNDER_1000_DICT = {\n",
    "    **NUM_1_2_to_9_DICT,\n",
    "    **NUM_10_11_to_19_DICT,\n",
    "    **NUM_20_30_to_90_DICT,\n",
    "    **NUM_100_200_to_900_DICT\n",
    "}\n",
    "\n",
    "WHITE_SPACE = r'[\\s\\u200c]+'\n",
    "CONNECTOR = rf'{WHITE_SPACE}و{WHITE_SPACE}'\n",
    "NEGATE = r'منفی'\n",
    "ZERO = r'صفر'\n",
    "DIGITS = r'[۰۱۲۳۴۵۶۷۸۹0123456789]'\n",
    "DOTS = r'[٫\\.]'\n",
    "\n",
    "# Pattern for digit-based NUM\n",
    "NUM_DIGIT_BASED = rf'(?:-?{DIGITS}+(?:{DOTS}{DIGITS}+)?)'\n",
    "\n",
    "# Pattern for NUM ∈ {1,2,...,99}\n",
    "NUM_1_2_to_9 = join_patterns(NUM_1_2_to_9_DICT.keys(), True)\n",
    "NUM_10_11_to_19 = join_patterns(NUM_10_11_to_19_DICT.keys(), True)\n",
    "NUM_20_30_to_90 = join_patterns(NUM_20_30_to_90_DICT.keys(), True)\n",
    "NUM_20_21_to_99 = rf'(?:{NUM_20_30_to_90}(?:{CONNECTOR}{NUM_1_2_to_9})?)'\n",
    "NUM_1_2_to_99 = join_patterns([NUM_10_11_to_19, NUM_20_21_to_99, NUM_1_2_to_9])\n",
    "\n",
    "# Pattern for NUM ∈ {1,2,...,999}\n",
    "NUM_100_200_to_900 = join_patterns(NUM_100_200_to_900_DICT.keys(), True)\n",
    "NUM_100_101_to_999 = rf'(?:{NUM_100_200_to_900}(?:{CONNECTOR}{NUM_1_2_to_99})?)'\n",
    "NUM_1_2_to_999 = join_patterns([NUM_100_101_to_999, NUM_1_2_to_99, NUM_DIGIT_BASED])\n",
    "\n",
    "# Pattern for NUM ∈ {1,2,...}\n",
    "NUM_EXTENDER = join_patterns(NUM_EXTENDER_DICT.keys(), True)\n",
    "NUM_1_2_to_999_EXTENDED = rf'(?:(?:{NUM_1_2_to_999}{WHITE_SPACE})?{NUM_EXTENDER}(?:{WHITE_SPACE}{NUM_EXTENDER})*)'\n",
    "NUM_EXTENDED = rf'(?:{NUM_1_2_to_999_EXTENDED}(?:{CONNECTOR}{NUM_1_2_to_999_EXTENDED})*(?:{CONNECTOR}{NUM_1_2_to_999})?)'\n",
    "NUM_NATURAL = join_patterns([NUM_EXTENDED, NUM_1_2_to_999])\n",
    "\n",
    "# Pattern for NUM ∈ Z\n",
    "NUM_INTEGER = join_patterns([ZERO, rf'(?:(?:({NEGATE}){WHITE_SPACE})?{NUM_NATURAL})'])\n",
    "\n",
    "# Pattern for NUM ∈ {p/q | p,q ∈ Z}\n",
    "NUM_NORMAL_FRACTION = rf'(?:{NUM_INTEGER}{WHITE_SPACE}{NUM_INTEGER}م)'\n",
    "NUM_NORMAL_FRACTION_LABELED = rf'(?:(?P<numerator>{NUM_INTEGER}){WHITE_SPACE}(?P<denominator>{NUM_INTEGER})م)'\n",
    "NUM_SPECIAL_FRACTION = join_patterns(NUM_SPECIAL_FRACTION_DICT.keys())\n",
    "NUM_FRACTION = join_patterns([NUM_SPECIAL_FRACTION, NUM_NORMAL_FRACTION])\n",
    "\n",
    "# Pattern for NUM ∈ {n+(p/q) | n,p,q ∈ Z}\n",
    "NUM_INTEGER_PLUS_FRACTION_LABELED = rf'(?:(?P<integer_part>{NUM_INTEGER}){CONNECTOR}(?P<fraction_part>{NUM_FRACTION}))'\n",
    "NUM_INTEGER_PLUS_FRACTION = rf'({NUM_INTEGER}{CONNECTOR}{NUM_FRACTION})'\n",
    "\n",
    "# Pattern for NUM ∈ Q\n",
    "NUM_RATIONAL = join_patterns([NUM_FRACTION, NUM_INTEGER_PLUS_FRACTION, NUM_INTEGER])\n",
    "\n",
    "def get_value_NUM_DIGIT_BASED(num_string):\n",
    "    return float(unidecode.unidecode(num_string))\n",
    "\n",
    "def get_value_NUM_1_2_to_999(num_string):\n",
    "    try:\n",
    "        return get_value_NUM_DIGIT_BASED(num_string)\n",
    "    except:\n",
    "        match_groups = re.match(NUM_1_2_to_999, num_string).groups()\n",
    "        return sum([NUM_UNDER_1000_DICT[key] for key in filter(None, match_groups)])\n",
    "\n",
    "def get_value_NUM_1_2_to_999_EXTENDED(num_string):\n",
    "    extender_value = 1\n",
    "    num_extender_matches = re.finditer(NUM_EXTENDER, num_string)\n",
    "    for match in num_extender_matches:\n",
    "        extender_value *= NUM_EXTENDER_DICT[match.group()]\n",
    "    try:\n",
    "        num_without_extender_match = re.search(NUM_1_2_to_999, re.sub(NUM_EXTENDER, '', num_string))\n",
    "        num_without_extender = get_value_NUM_1_2_to_999(num_without_extender_match.group())\n",
    "    except:\n",
    "        num_without_extender = 1\n",
    "    return extender_value * num_without_extender\n",
    "\n",
    "def get_value_NUM_NATURAL(num_string):\n",
    "    num_1_2_to_999_extended_list = re.finditer(NUM_1_2_to_999_EXTENDED, num_string)\n",
    "    num_value = 0\n",
    "    for match in num_1_2_to_999_extended_list:\n",
    "        num_value += get_value_NUM_1_2_to_999_EXTENDED(match.group())\n",
    "    num_1_2_to_999_at_the_end = re.search(NUM_1_2_to_999, re.sub(NUM_1_2_to_999_EXTENDED, '', num_string))\n",
    "    if num_1_2_to_999_at_the_end:\n",
    "        num_value += get_value_NUM_1_2_to_999(num_1_2_to_999_at_the_end.group())\n",
    "    return num_value\n",
    "\n",
    "def get_value_NUM_INTEGER(num_string):\n",
    "    if re.search(ZERO, num_string):\n",
    "        return 0\n",
    "    coefficient = 1\n",
    "    if re.search(NEGATE, num_string):\n",
    "        coefficient = -1\n",
    "    num_natural = re.search(NUM_NATURAL, num_string).group()\n",
    "    return coefficient * get_value_NUM_NATURAL(num_natural)\n",
    "\n",
    "def get_value_NUM_FRACTION(num_string):\n",
    "    match = re.search(NUM_SPECIAL_FRACTION, num_string)\n",
    "    if match:\n",
    "        return NUM_SPECIAL_FRACTION_DICT[match.group()]\n",
    "    match = re.search(NUM_NORMAL_FRACTION_LABELED, num_string)\n",
    "    numerator = get_value_NUM_INTEGER(match.group('numerator'))\n",
    "    denominator = get_value_NUM_INTEGER(match.group('denominator'))\n",
    "    try:\n",
    "        return numerator / denominator\n",
    "    except:\n",
    "        return 0\n",
    "\n",
    "def get_value_NUM_INTEGER_PLUS_FRACTION(num_string):\n",
    "    match = re.search(NUM_INTEGER_PLUS_FRACTION_LABELED, num_string)\n",
    "    integer_part = get_value_NUM_INTEGER(match.group('integer_part'))\n",
    "    try:\n",
    "        fraction_part = get_value_NUM_FRACTION(match.group('fraction_part'))\n",
    "    except:\n",
    "        fraction_part = 0\n",
    "    return integer_part + fraction_part\n",
    "\n",
    "def get_value_NUM_RATIONAL(num_string):\n",
    "    NUM_FRACTION_match = re.fullmatch(NUM_FRACTION, num_string)\n",
    "    if NUM_FRACTION_match:\n",
    "        return get_value_NUM_FRACTION(num_string)\n",
    "    NUM_INTEGER_PLUS_FRACTION_match = re.fullmatch(NUM_INTEGER_PLUS_FRACTION, num_string)\n",
    "    if NUM_INTEGER_PLUS_FRACTION_match:\n",
    "        return get_value_NUM_INTEGER_PLUS_FRACTION(num_string)\n",
    "    return get_value_NUM_INTEGER(num_string)\n",
    "\n",
    "def extract_numbers(text):\n",
    "    extracted_numbers = []\n",
    "    for match in re.finditer(NUM_RATIONAL, text):\n",
    "        extracted_numbers.append({\n",
    "            'marker': match.group(),\n",
    "            'span': match.span(),\n",
    "            'value': get_value_NUM_RATIONAL(match.group())\n",
    "        })\n",
    "    return extracted_numbers\n",
    "\n",
    "print(extract_numbers(\"یی، یک دو سال\"))"
   ]
  },
  {
   "cell_type": "code",
   "execution_count": 9,
   "metadata": {},
   "outputs": [
    {
     "data": {
      "text/plain": [
       "[{'marker': '0.85', 'span': (1, 5), 'value': 0.85}]"
      ]
     },
     "execution_count": 9,
     "metadata": {},
     "output_type": "execute_result"
    }
   ],
   "source": [
    "text = ' هشتاد و پنج صدم '\n",
    "extract_numbers(text)"
   ]
  },
  {
   "cell_type": "code",
   "execution_count": 29,
   "metadata": {},
   "outputs": [],
   "source": [
    "dict_units = {'MP': 'megapixels',\n",
    " 'Pa': 'Pa',\n",
    " 'bu': 'bushels',\n",
    " 'dpcm': 'dpcm',\n",
    " 'dpi': 'dpi',\n",
    " 'em': 'em',\n",
    " 'fm': 'fathoms',\n",
    " 'fur': 'furlongs',\n",
    " 'ppcm': 'ppcm',\n",
    " 'ppi': 'ppi',\n",
    " 'px': 'pixels',\n",
    " 'st': 'stones',\n",
    " '°': '°',\n",
    " 'آمپر': 'amps',\n",
    " 'اتمسفر': 'atm',\n",
    " 'اسب بخار': 'hp',\n",
    " 'الکترون\\u200cولت': 'electronvolt',\n",
    " 'اهم': 'ohms',\n",
    " 'اونس': 'oz',\n",
    " 'اونس تروا': 'oz troy',\n",
    " 'اونس سیال': 'fl oz',\n",
    " 'اونس سیال انگلیسی': 'Imp. fl oz',\n",
    " 'اینچ': 'inches',\n",
    " 'اینچ جیوه': 'inHg',\n",
    " 'اینچ مربع': 'inches²',\n",
    " 'اینچ مکعب': 'inches³',\n",
    " 'بار': 'bar',\n",
    " 'بایت': 'byte',\n",
    " 'بخش/میلیون': 'parts/million',\n",
    " 'بشکه': 'barrel',\n",
    " 'بیت': 'bit',\n",
    " 'بی\\u200cتی\\u200cیو': 'BTU',\n",
    " 'تابندگی خورشید': 'solar luminosities',\n",
    " 'ترابایت': 'TByte',\n",
    " 'ترابیت': 'Tbit',\n",
    " 'ترم آمریکایی': 'US therm',\n",
    " 'تن': 'tons',\n",
    " 'تن متریک': 't',\n",
    " 'ثانیه': 'secs',\n",
    " 'ثانیهٔ قوسی': 'arcsecs',\n",
    " 'جرم خورشید': 'solar masses',\n",
    " 'جرم زمین': 'Earth masses',\n",
    " 'جریب': 'acres',\n",
    " 'جریب فوت': 'acre ft',\n",
    " 'دالتون': 'daltons',\n",
    " 'درجه': 'degrees',\n",
    " 'درجهٔ سلسیوس': 'deg. C',\n",
    " 'درجهٔ فارنهایت': 'deg. F',\n",
    " 'درجهٔ کلوین': 'K',\n",
    " 'درصد': 'percent',\n",
    " 'دسی\\u200cلیتر': 'dL',\n",
    " 'دسی\\u200cمتر': 'dm',\n",
    " 'دقیقه': 'mins',\n",
    " 'دقیقهٔ قوسی': 'arcmins',\n",
    " 'دهه': 'dec',\n",
    " 'ده\\u200cهزارم': 'permyriad',\n",
    " 'دور': 'rev',\n",
    " 'دونوم': 'dunams',\n",
    " 'رادیان': 'radians',\n",
    " 'روز': 'days',\n",
    " 'ساعت': 'hours',\n",
    " 'سال': 'years',\n",
    " 'سال نوری': 'light yrs',\n",
    " 'سانت': 'cm',\n",
    " 'سانتی\\u200cلیتر': 'cL',\n",
    " 'سانتی\\u200cمتر مربع': 'cm²',\n",
    " 'سانتی\\u200cمتر مکعب': 'cm³',\n",
    " 'سده': 'c',\n",
    " 'شعاع خورشید': 'solar radii',\n",
    " 'عیار': 'karats',\n",
    " 'فوت': 'feet',\n",
    " 'فوت مربع': 'sq feet',\n",
    " 'فوت مکعب': 'feet³',\n",
    " 'قاشق غ.': 'tbsp',\n",
    " 'قاشق چ.': 'tsp',\n",
    " 'قیراط': 'carats',\n",
    " 'لوکس': 'lux',\n",
    " 'لیتر': 'liters',\n",
    " 'لیتر/کیلومتر': 'liters/km',\n",
    " 'لیتر/۱۰۰ کیلومتر': 'L/100 km',\n",
    " 'ماه': 'months',\n",
    " 'مایل': 'miles',\n",
    " 'مایل اسکاندیناوی': 'smi',\n",
    " 'مایل در ساعت': 'miles/hour',\n",
    " 'مایل دریایی': 'nmi',\n",
    " 'مایل مربع': 'sq miles',\n",
    " 'مایل مکعب': 'mi³',\n",
    " 'مایل/امپریال گالن': 'miles/gal Imp.',\n",
    " 'مایل/گالن': 'miles/gal',\n",
    " 'متر': 'm',\n",
    " 'متر در ثانیه': 'meters/sec',\n",
    " 'متر مربع': 'meters²',\n",
    " 'متر مکعب': 'm³',\n",
    " 'متر/مجذور ثانیه': 'meters/sec²',\n",
    " 'مول': 'mole',\n",
    " 'مگابایت': 'MByte',\n",
    " 'مگابیت': 'Mbit',\n",
    " 'مگالیتر': 'ML',\n",
    " 'مگاهرتز': 'MHz',\n",
    " 'مگاوات': 'MW',\n",
    " 'مگاپاسکال': 'MPa',\n",
    " 'میلی\\u200cآمپر': 'milliamps',\n",
    " 'میلی\\u200cبار': 'mbar',\n",
    " 'میلی\\u200cثانیه': 'millisecs',\n",
    " 'میلی\\u200cلیتر': 'mL',\n",
    " 'میلی\\u200cمتر جیوه': 'mmHg',\n",
    " 'میلی\\u200cمول/لیتر': 'millimol/liter',\n",
    " 'میلی\\u200cوات': 'mW',\n",
    " 'میلی\\u200cگرم': 'mg',\n",
    " 'میلی\\u200cگرم در دسی\\u200cلیتر': 'mg/dL',\n",
    " 'میکروثانیه': 'µsecs',\n",
    " 'میکرومتر': 'µmeters',\n",
    " 'میکروگرم': 'µg',\n",
    " 'م\\u200cم': 'mm',\n",
    " 'نانوثانیه': 'nanosecs',\n",
    " 'نانومتر': 'nm',\n",
    " 'نیروی جاذبه': 'g-force',\n",
    " 'نیوتن': 'newton',\n",
    " 'نیوتن\\u200cمتر': 'N⋅m',\n",
    " 'هرتز': 'Hz',\n",
    " 'هزارم': 'permille',\n",
    " 'هفته': 'weeks',\n",
    " 'هکتار': 'hectares',\n",
    " 'هکتولیتر': 'hL',\n",
    " 'هکتوپاسکال': 'hPa',\n",
    " 'وات': 'watts',\n",
    " 'واحد نجومی': 'au',\n",
    " 'ولت': 'volts',\n",
    " 'پارسک': 'parsecs',\n",
    " 'پاینت': 'pints',\n",
    " 'پاینت متریک': 'mpt',\n",
    " 'پتابایت': 'PByte',\n",
    " 'پونت': 'points',\n",
    " 'پوند': 'pounds',\n",
    " 'پوند در اینچ مربع': 'psi',\n",
    " 'پوند-فوت': 'lbf⋅ft',\n",
    " 'پوند-نیرو': 'pound-force',\n",
    " 'پیمانه': 'cups',\n",
    " 'پیمانهٔ متریک': 'mcup',\n",
    " 'پیکومتر': 'pm',\n",
    " 'ژول': 'joules',\n",
    " 'ک.هرتز': 'kHz',\n",
    " 'ک.وات': 'kW',\n",
    " 'ک.وات\\u200cساعت': 'kW-hour',\n",
    " 'ک.پاسکال': 'kPa',\n",
    " 'ک.ژول': 'kilojoule',\n",
    " 'ک.کالری': 'kcal',\n",
    " 'کالری': 'Cal',\n",
    " 'کوارت': 'qts',\n",
    " 'کیلوبایت': 'kByte',\n",
    " 'کیلوبیت': 'kbit',\n",
    " 'کیلومتر': 'km',\n",
    " 'کیلومتر در ساعت': 'km/hour',\n",
    " 'کیلومتر مربع': 'km²',\n",
    " 'کیلومتر مکعب': 'km³',\n",
    " 'کیلوگرم': 'kg',\n",
    " 'گالن': 'gal',\n",
    " 'گالن امپریال': 'Imp. gal',\n",
    " 'گرم': 'g',\n",
    " 'گره': 'kn',\n",
    " 'گیگابایت': 'GByte',\n",
    " 'گیگابیت': 'Gbit',\n",
    " 'گیگاهرتز': 'GHz',\n",
    " 'گیگاوات': 'GW',\n",
    " 'یارد': 'yards',\n",
    " 'یارد مربع': 'yards²',\n",
    " 'یارد مکعب': 'yards³',\n",
    " 'نیوتون': 'newton'}"
   ]
  },
  {
   "cell_type": "code",
   "execution_count": 30,
   "metadata": {},
   "outputs": [],
   "source": [
    "dict_prefix = {\n",
    "    'کیلو': 'k',\n",
    "    'مگا': 'M',\n",
    "}"
   ]
  },
  {
   "cell_type": "code",
   "execution_count": 38,
   "metadata": {},
   "outputs": [
    {
     "name": "stdout",
     "output_type": "stream",
     "text": [
      "level 0 [<re.Match object; span=(0, 36), match='کیلوگرم متر مربع بر مجذور مگا نیوتون'>]\n",
      "کیلو گرم\n",
      "[length] ** 1\n",
      "None متر\n",
      "[length] ** 2\n",
      "مگا نیوتون\n",
      "[length] ** 2\n"
     ]
    },
    {
     "data": {
      "text/html": [
       "1.0 kilogram meter<sup>2</sup>/meganewton<sup>2</sup>"
      ],
      "text/latex": [
       "$1.0\\ \\frac{\\mathrm{kilogram} \\cdot \\mathrm{meter}^{2}}{\\mathrm{meganewton}^{2}}$"
      ],
      "text/plain": [
       "1.0 <Unit('kilogram * meter ** 2 / meganewton ** 2')>"
      ]
     },
     "execution_count": 38,
     "metadata": {},
     "output_type": "execute_result"
    }
   ],
   "source": [
    "import re\n",
    "import pint\n",
    "\n",
    "class ComplexUnit:\n",
    "\n",
    "    def __init__(self):\n",
    "        self.numerator_units = list()\n",
    "        self.denominator_units = list()\n",
    "        self.dimensionality = None\n",
    "\n",
    "\n",
    "class Unit:\n",
    "\n",
    "    def __init__(self, name, prefix, dimensionality):\n",
    "        self.name = name\n",
    "        self.prefix = prefix\n",
    "        self.dimensionality = dimensionality\n",
    "\n",
    "\n",
    "def join_patterns(patterns, grouping=False):\n",
    "    return '(' + ('?:' if not grouping else '') + '|'.join(patterns) + ')'\n",
    "\n",
    "\n",
    "WHITE_SPACE = r'[\\s\\u200c]+'\n",
    "\n",
    "UNIT = join_patterns(['گرم', 'متر', 'نیوتون', 'وات', 'm', 'h'], True)  # TODO: A function to get all units\n",
    "PREF = join_patterns(['کیلو', 'سانتی', 'دسی', 'مگا', 'k'], True)  # TODO: A function to get all prefixes\n",
    "UNIT_PREF = rf'(?:(?:{PREF}(?:{WHITE_SPACE})?)?{UNIT})'\n",
    "UNIT_PREF_DIM = rf'(({UNIT_PREF}({WHITE_SPACE}(مربع|مکعب))?)|(((مربع|مکعب|مجذور){WHITE_SPACE})?{UNIT_PREF}))'\n",
    "MULT_CONNECTOR = join_patterns([rf'({WHITE_SPACE}(در{WHITE_SPACE})?)', rf'(({WHITE_SPACE})?(\\*|×)({WHITE_SPACE})?)'])\n",
    "UNIT_PREF_DIM_SEQ = rf'({UNIT_PREF_DIM}({MULT_CONNECTOR}{UNIT_PREF_DIM})*)'\n",
    "DIV_CONNECTOR = join_patterns([rf'({WHITE_SPACE}بر{WHITE_SPACE})', rf'(({WHITE_SPACE})?(\\/|÷)({WHITE_SPACE})?)'])\n",
    "COMPLEX_UNIT = rf'({UNIT_PREF_DIM_SEQ}({DIV_CONNECTOR}{UNIT_PREF_DIM_SEQ})*)'\n",
    "\n",
    "def sing_unit_to_str(unit):\n",
    "    print(unit.prefix, unit.name)\n",
    "    pr = '' if unit.prefix is None else dict_prefix[unit.prefix]\n",
    "    print(unit.dimensionality)\n",
    "    dim = 1 if unit.dimensionality is None else int(unit.dimensionality.split('**')[1])\n",
    "    return  f'({pr}{dict_units[unit.name]}**{dim})'\n",
    "\n",
    "def unit_to_str(complex_unit):\n",
    "    num = '(' + '*'.join([sing_unit_to_str(unit) for unit in complex_unit.numerator_units]) + ')'\n",
    "    den = '(' + '*'.join([sing_unit_to_str(unit) for unit in complex_unit.denominator_units]) + ')'\n",
    "    return num + '/' + den\n",
    "\n",
    "\n",
    "def extract_units(text):\n",
    "    def getComplexUnitInstance(text, level):\n",
    "        pattern = [COMPLEX_UNIT, UNIT_PREF_DIM_SEQ, UNIT_PREF_DIM, UNIT_PREF][level]\n",
    "        matches = [match for match in re.finditer(pattern, text)]\n",
    "        if level == 0:\n",
    "            print(\"level 0\", matches)\n",
    "            return [{\n",
    "                'marker': match.group(),\n",
    "                'span': match.span(),\n",
    "                'object': getComplexUnitInstance(match.group(), 1)\n",
    "            } for match in matches]\n",
    "        if level == 1:\n",
    "            complexUnit = ComplexUnit()\n",
    "            complexUnit.numerator_units = getComplexUnitInstance(matches[0].group(), 2)\n",
    "            if len(matches) > 1:\n",
    "                for match in matches[1:]:\n",
    "                    for unit in getComplexUnitInstance(match.group(), 2):\n",
    "                        complexUnit.denominator_units.append(unit)\n",
    "            return complexUnit\n",
    "        if level == 2:\n",
    "            return [getComplexUnitInstance(match.group(), 3) for match in matches]\n",
    "        if level == 3:\n",
    "            power = 1\n",
    "            if re.findall(\"مجذور|مربع\", text):\n",
    "                power = 2\n",
    "            if re.findall(\"مکعب\", text):\n",
    "                power = 3\n",
    "            prefix, name = tuple(re.search(UNIT_PREF, matches[0].group()).groups())\n",
    "            dimensionality = f\"[length] ** {power}\"\n",
    "            return Unit(name, prefix, dimensionality)\n",
    "\n",
    "    return getComplexUnitInstance(text, 0)\n",
    "\n",
    "\n",
    "a = extract_units('کیلوگرم متر مربع بر مجذور مگا نیوتون')\n",
    "ureg = pint.UnitRegistry()\n",
    "b = ureg(unit_to_str(a[0]['object']))\n",
    "b"
   ]
  },
  {
   "cell_type": "code",
   "execution_count": 32,
   "metadata": {},
   "outputs": [
    {
     "data": {
      "text/plain": [
       "2"
      ]
     },
     "execution_count": 32,
     "metadata": {},
     "output_type": "execute_result"
    }
   ],
   "source": [
    "int('  2')"
   ]
  },
  {
   "cell_type": "code",
   "execution_count": null,
   "metadata": {},
   "outputs": [],
   "source": []
  }
 ],
 "metadata": {
  "interpreter": {
   "hash": "0adcc2737ebf6a4a119f135174df96668767fca1ef1112612db5ecadf2b6d608"
  },
  "kernelspec": {
   "display_name": "Python 3.8.3 64-bit",
   "language": "python",
   "name": "python3"
  },
  "language_info": {
   "codemirror_mode": {
    "name": "ipython",
    "version": 3
   },
   "file_extension": ".py",
   "mimetype": "text/x-python",
   "name": "python",
   "nbconvert_exporter": "python",
   "pygments_lexer": "ipython3",
   "version": "3.9.12"
  },
  "orig_nbformat": 4
 },
 "nbformat": 4,
 "nbformat_minor": 2
}
