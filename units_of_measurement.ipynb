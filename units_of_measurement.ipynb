{
 "cells": [
  {
   "cell_type": "markdown",
   "metadata": {},
   "source": [
    "<div dir=\"auto\" align=\"center\">\n",
    "    <h3>\n",
    "        بسم الله الرحمن الرحیم\n",
    "    </h3>\n",
    "    <br>\n",
    "    <h1>\n",
    "        <strong>\n",
    "            بازیابی پیشرفته اطلاعات\n",
    "        </strong>\n",
    "    </h1>\n",
    "    <h2>\n",
    "        <strong>\n",
    "            تمرین اول (واحدهای اندازه‌گیری)\n",
    "        </strong>\n",
    "    </h2>\n",
    "    <br>\n",
    "    <h3>\n",
    "        محمد هجری - ٩٨١٠٦١٥٦\n",
    "        <br><br>\n",
    "        ارشان دلیلی - ٩٨١٠٥٧٥١\n",
    "        <br><br>\n",
    "        سروش جهان‌زاد - ٩٨١٠٠٣٨٩\n",
    "    </h3>\n",
    "    <br>\n",
    "</div>\n",
    "<hr>"
   ]
  },
  {
   "cell_type": "markdown",
   "metadata": {},
   "source": [
    "<div dir=\"auto\" align=\"right\">\n",
    "    <h3 style='direction:rtl;text-align:justify;'>\n",
    "        نصب و دسترسی به کتابخانه‌های مورد نیاز\n",
    "    </h3>\n",
    "</div>\n",
    "\n",
    "<div dir=\"auto\" align=\"justify\">\n",
    "    <p style='direction:rtl;text-align:justify;'>\n",
    "        با اجرای دو قطعه کد زیر، کتابخانه‌هایی که از آن‌ها در این تمرین استفاده شده است نصب و قابل استفاده می‌شوند.\n",
    "    </p>\n",
    "</div>"
   ]
  },
  {
   "cell_type": "code",
   "execution_count": 1,
   "metadata": {},
   "outputs": [
    {
     "name": "stdout",
     "output_type": "stream",
     "text": [
      "Requirement already satisfied: pint in c:\\users\\mohammad\\appdata\\local\\programs\\python\\python38\\lib\\site-packages (0.19.1)\n"
     ]
    },
    {
     "name": "stderr",
     "output_type": "stream",
     "text": [
      "WARNING: You are using pip version 22.0.3; however, version 22.0.4 is available.\n",
      "You should consider upgrading via the 'c:\\users\\mohammad\\appdata\\local\\programs\\python\\python38\\python.exe -m pip install --upgrade pip' command.\n"
     ]
    }
   ],
   "source": [
    "! pip install pint"
   ]
  },
  {
   "cell_type": "code",
   "execution_count": 2,
   "metadata": {},
   "outputs": [],
   "source": [
    "import json\n",
    "import re\n",
    "import pint\n",
    "import pandas as pd\n",
    "from number_extractor import extract_numbers\n",
    "from unit_extractor import extract_units, unit_to_SI_unit, unit_to_quantity"
   ]
  },
  {
   "cell_type": "markdown",
   "metadata": {},
   "source": [
    "<div dir=\"auto\" align=\"right\">\n",
    "    <h3 style='direction:rtl;text-align:justify;'>\n",
    "        ابزارهای توسعه یافته برای تشخیص داده‌ها\n",
    "    </h3>\n",
    "</div>\n",
    "\n",
    "<div dir=\"auto\" align=\"justify\">\n",
    "    <p style='direction:rtl;text-align:justify;'>\n",
    "        برای استخراج اطلاعات مورد نیاز از متن، نیاز داریم ابزارهایی داشته باشیم که اعداد، واحدها و کمیت‌های فیزیکی را تشخیص دهند. این ابزارها را به صورت جدا از هم توسعه دادیم که از آن‌ها بتوان در پروژه‌های دیگر هم استفاده کرد. در ادامه، به توضیح هر یک از آن‌ها می‌پردازیم.\n",
    "    </p>\n",
    "</div>"
   ]
  },
  {
   "cell_type": "markdown",
   "metadata": {
    "pycharm": {
     "name": "#%% md\n"
    }
   },
   "source": [
    "<div dir=\"auto\" align=\"right\">\n",
    "    <h4 style='direction:rtl;text-align:justify;'>\n",
    "        استخراج‌کننده‌ی اعداد (Number Extractor)\n",
    "    </h4>\n",
    "</div>\n",
    "\n",
    "<div dir=\"auto\" align=\"justify\">\n",
    "    <p style='direction:rtl;text-align:justify;'>\n",
    "        کد مربوط به ابزار استخراج‌کننده‌ی اعداد در فایل number_extractor.py موجود است. از این ابزار برای تشخیص اعداد فارسی استفاده می‌کنیم. گستردگی اعداد قابل تشخیص توسط این ابزار بسیار بیش‌تر از کتابخانه‌ی parsi.io است؛ به صورت کلی، توانایی تشخیص اعداد صحیح، اعشاری، کسری و مخلوط را داریم.\n",
    "    </p>\n",
    "</div>\n",
    "\n",
    "<div dir=\"auto\" align=\"justify\">\n",
    "    <p style='direction:rtl;text-align:justify;'>\n",
    "        با اجرای قطعه کد زیر، چند مثال از انواع مختلف اعداد قابل تشخیص را مشاهده می‌کنیم.\n",
    "    </p>\n",
    "</div>"
   ]
  },
  {
   "cell_type": "code",
   "execution_count": 3,
   "metadata": {},
   "outputs": [
    {
     "data": {
      "text/plain": "      type                            marker        span           value\n0     صحیح                  سیصد و بیست و یک    (35, 51)           321.0\n1     صحیح   یکصد میلیون و 456 هزار و شانزده    (63, 94)     100456016.0\n2     صحیح            صد و سیزده هزار میلیون  (166, 188)  113000000000.0\n3     صحیح             هزار و سیصد و سی و سه  (201, 222)          1333.0\n4   اعشاری                   هشتاد و پنج صدم    (16, 31)            0.85\n5   اعشاری                          دو و نیم    (68, 76)             2.5\n6   اعشاری                      سی و پنج صدم   (95, 107)            0.35\n7   اعشاری                               نصف  (132, 135)             0.5\n8   اعشاری                               ربع  (164, 167)            0.25\n9   اعشاری                         چهل هزارم  (218, 227)            0.04\n10    کسری                          سه چهارم      (0, 8)            0.75\n11    کسری                   صد و یازده پنجم    (23, 38)            22.2\n12    کسری            هزار و نهصد نود و پنجم    (65, 87)            20.0\n13    کسری                      نوزده هشتادم   (98, 110)          0.2375\n14    کسری                            یک دوم  (169, 175)             0.5\n15    کسری                  صد و هشتاد بیستم  (188, 204)             9.0\n16    کسری                           سه پنجم  (242, 249)             0.6\n17   مخلوط             چهل و پنج و دو پنجاهم    (27, 48)           45.04\n18   مخلوط          ششصد و شانزده و بیست صدم   (86, 110)           616.2\n19   مخلوط              هجده و سی و پنج چهلم  (113, 133)          18.875\n20   مخلوط  نود هزار و چهارصد و 125 ده هزارم  (171, 203)      90400.0125",
      "text/html": "<div>\n<style scoped>\n    .dataframe tbody tr th:only-of-type {\n        vertical-align: middle;\n    }\n\n    .dataframe tbody tr th {\n        vertical-align: top;\n    }\n\n    .dataframe thead th {\n        text-align: right;\n    }\n</style>\n<table border=\"1\" class=\"dataframe\">\n  <thead>\n    <tr style=\"text-align: right;\">\n      <th></th>\n      <th>type</th>\n      <th>marker</th>\n      <th>span</th>\n      <th>value</th>\n    </tr>\n  </thead>\n  <tbody>\n    <tr>\n      <th>0</th>\n      <td>صحیح</td>\n      <td>سیصد و بیست و یک</td>\n      <td>(35, 51)</td>\n      <td>321.0</td>\n    </tr>\n    <tr>\n      <th>1</th>\n      <td>صحیح</td>\n      <td>یکصد میلیون و 456 هزار و شانزده</td>\n      <td>(63, 94)</td>\n      <td>100456016.0</td>\n    </tr>\n    <tr>\n      <th>2</th>\n      <td>صحیح</td>\n      <td>صد و سیزده هزار میلیون</td>\n      <td>(166, 188)</td>\n      <td>113000000000.0</td>\n    </tr>\n    <tr>\n      <th>3</th>\n      <td>صحیح</td>\n      <td>هزار و سیصد و سی و سه</td>\n      <td>(201, 222)</td>\n      <td>1333.0</td>\n    </tr>\n    <tr>\n      <th>4</th>\n      <td>اعشاری</td>\n      <td>هشتاد و پنج صدم</td>\n      <td>(16, 31)</td>\n      <td>0.85</td>\n    </tr>\n    <tr>\n      <th>5</th>\n      <td>اعشاری</td>\n      <td>دو و نیم</td>\n      <td>(68, 76)</td>\n      <td>2.5</td>\n    </tr>\n    <tr>\n      <th>6</th>\n      <td>اعشاری</td>\n      <td>سی و پنج صدم</td>\n      <td>(95, 107)</td>\n      <td>0.35</td>\n    </tr>\n    <tr>\n      <th>7</th>\n      <td>اعشاری</td>\n      <td>نصف</td>\n      <td>(132, 135)</td>\n      <td>0.5</td>\n    </tr>\n    <tr>\n      <th>8</th>\n      <td>اعشاری</td>\n      <td>ربع</td>\n      <td>(164, 167)</td>\n      <td>0.25</td>\n    </tr>\n    <tr>\n      <th>9</th>\n      <td>اعشاری</td>\n      <td>چهل هزارم</td>\n      <td>(218, 227)</td>\n      <td>0.04</td>\n    </tr>\n    <tr>\n      <th>10</th>\n      <td>کسری</td>\n      <td>سه چهارم</td>\n      <td>(0, 8)</td>\n      <td>0.75</td>\n    </tr>\n    <tr>\n      <th>11</th>\n      <td>کسری</td>\n      <td>صد و یازده پنجم</td>\n      <td>(23, 38)</td>\n      <td>22.2</td>\n    </tr>\n    <tr>\n      <th>12</th>\n      <td>کسری</td>\n      <td>هزار و نهصد نود و پنجم</td>\n      <td>(65, 87)</td>\n      <td>20.0</td>\n    </tr>\n    <tr>\n      <th>13</th>\n      <td>کسری</td>\n      <td>نوزده هشتادم</td>\n      <td>(98, 110)</td>\n      <td>0.2375</td>\n    </tr>\n    <tr>\n      <th>14</th>\n      <td>کسری</td>\n      <td>یک دوم</td>\n      <td>(169, 175)</td>\n      <td>0.5</td>\n    </tr>\n    <tr>\n      <th>15</th>\n      <td>کسری</td>\n      <td>صد و هشتاد بیستم</td>\n      <td>(188, 204)</td>\n      <td>9.0</td>\n    </tr>\n    <tr>\n      <th>16</th>\n      <td>کسری</td>\n      <td>سه پنجم</td>\n      <td>(242, 249)</td>\n      <td>0.6</td>\n    </tr>\n    <tr>\n      <th>17</th>\n      <td>مخلوط</td>\n      <td>چهل و پنج و دو پنجاهم</td>\n      <td>(27, 48)</td>\n      <td>45.04</td>\n    </tr>\n    <tr>\n      <th>18</th>\n      <td>مخلوط</td>\n      <td>ششصد و شانزده و بیست صدم</td>\n      <td>(86, 110)</td>\n      <td>616.2</td>\n    </tr>\n    <tr>\n      <th>19</th>\n      <td>مخلوط</td>\n      <td>هجده و سی و پنج چهلم</td>\n      <td>(113, 133)</td>\n      <td>18.875</td>\n    </tr>\n    <tr>\n      <th>20</th>\n      <td>مخلوط</td>\n      <td>نود هزار و چهارصد و 125 ده هزارم</td>\n      <td>(171, 203)</td>\n      <td>90400.0125</td>\n    </tr>\n  </tbody>\n</table>\n</div>"
     },
     "execution_count": 3,
     "metadata": {},
     "output_type": "execute_result"
    }
   ],
   "source": [
    "samples = {\n",
    "    'صحیح': 'آیا می‌دانستید دانشگاه شریف رتبه‌ی سیصد و بیست و یک را از میان یکصد میلیون و 456 هزار و شانزده دانشگاه برتر دنیا کسب کرده است؟ این یعنی از دانشگاه تهران که از بیش از صد و سیزده هزار میلیون مقاله در هر هزار و سیصد و سی و سه سال چاپ می‌کند، بهتر عمل کرده است.',\n",
    "    'اعشاری': 'باتری موبایل من هشتاد و پنج صدم شارژ داشت. انتظارش را نداشتم ولی در دو و نیم روز گذشته تازه به سی و پنج صدم رسیده بود. این یعنی فقط نصف باتری من خالی شده و تازه به ربع ظرفیتش رسیده بود. آقا عالی! کی فکرش رو می‌کرد فقط چهل هزارم درصد به ازای هر دقیقه خالی بشه.',\n",
    "    'کسری': 'سه چهارم از عددی را با صد و یازده پنجم از آن جمع کرده‌ایم و حاصل هزار و نهصد نود و پنجم بیش‌تر از نوزده هشتادم برابر آن شده است. شما که باهوش هستی می‌تونی با استفاده از یک دوم مغزت بگی که صد و هشتاد بیستم برابر آن چند می‌شود؟ سخته؟ پس به کمک سه پنجم از مغزت بگو.',\n",
    "    'مخلوط': 'مطمئناً حوصله‌ی خواندن عدد چهل و پنج و دو پنجاهم را داری ولی بگو ببینم بلدی جمع اعداد ششصد و شانزده و بیست صدم و هجده و سی و پنج چهلم را به دست آوری؟ اصلا بلدی از روی عدد نود هزار و چهارصد و 125 ده هزارم بخونی؟'\n",
    "}\n",
    "\n",
    "result = {\n",
    "    'type': [],\n",
    "    'marker': [],\n",
    "    'span': [],\n",
    "    'value': []\n",
    "}\n",
    "\n",
    "for type, text in samples.items():\n",
    "    for number in extract_numbers(text):\n",
    "        result['type'].append(type)\n",
    "        result['marker'].append(number['marker'])\n",
    "        result['span'].append(number['span'])\n",
    "        result['value'].append(str(number['value']))\n",
    "\n",
    "pd.DataFrame(result)"
   ]
  },
  {
   "cell_type": "markdown",
   "metadata": {},
   "source": [
    "<div dir=\"auto\" align=\"justify\">\n",
    "    <p style='direction:rtl;text-align:justify;'>\n",
    "        توجه کنید هنگامی که در خواندن عدد به صورت کسری یا مخلوط ابهام داشته باشیم، اولویت با نوع کسری است؛ برای مثال، \"بیست و دو صدم\" را ٠٫٢٢ می‌خوانیم، نه ٢٠٫٠٢.\n",
    "    </p>\n",
    "</div>"
   ]
  },
  {
   "cell_type": "markdown",
   "metadata": {},
   "source": [
    "<div dir=\"auto\" align=\"right\">\n",
    "    <h4 style='direction:rtl;text-align:justify;'>\n",
    "        استخراج‌کننده‌ی واحدها (Unit Extractor)\n",
    "    </h4>\n",
    "</div>\n",
    "\n",
    "<div dir=\"auto\" align=\"justify\">\n",
    "    <p style='direction:rtl;text-align:justify;'>\n",
    "        کد مربوط به ابزار استخراج‌کننده‌ی واحدها در فایل unit_extractor.py موجود است. واحدهای اندازه‌گیری موجود در متن می‌توانند به صورت فارسی یا انگلیسی بوده و دارای پیشوند باشند. شایان ذکر است که برای کار با کمیت‌ها و واحدهای انگلیسی از تعدادی از توابع کتابخانه‌ی pint استفاده کرده و با گسترش آن به کمیت‌های فارسی، ابزار قدرتمندتری ایجاد کرده‌ایم. در این قسمت، از داده‌های موجود در دایرکتوری resources/dataset  استفاده می‌کنیم. این داده‌ها بسیار گسترده هستند و با صرف مدت زمان زیادی گردآوری شده‌اند.\n",
    "    </p>\n",
    "</div>\n",
    "\n",
    "<div dir=\"auto\" align=\"justify\">\n",
    "    <p style='direction:rtl;text-align:justify;'>\n",
    "    <li>\n",
    "        پیشوندهای قابل تشخیص را از فایل prefixes.json می‌خوانیم. برای مثال، \"کیلو\"، \"kilo\" و \"k\" را به عنوان پیشوندِ کیلو در نظر می‌گیریم.\n",
    "    </li>\n",
    "    <br>\n",
    "    <li>\n",
    "        واحدهای قابل تشخیص را از فایل units.json می‌خوانیم. برای مثال، \"متر\"، \"meter\" و \"m\" را به عنوان واحدِ متر در نظر می‌گیریم. لازم به ذکر است که بخش امتیازی تمرین، یعنی تبدیل واحدها را نیز پشتیبانی می‌کنیم. با توجه به عدم وجود توضیحات ریزبینانه، واحدها را به معادلشان در SI تبدیل می‌کنیم. برای مثال، هر \"فوت\" حدوداً ٠٫٣ \"متر\" است.\n",
    "    </li>\n",
    "    <br>\n",
    "    <li>\n",
    "        کمیت‌های فیزیکی قابل تشخیص را از فایل quantities.json می‌خوانیم. کمیت فیزیکی مربوط به هر واحد را با صدا زدن تابع unit_to_quantity مشخص می‌کنیم. برای مثال، \"وات\"، \"ژول بر ثانیه\"، \"نیوتون متر بر ثانیه\"، \"کیلوگرم متر مربع بر مکعب ثانیه\" و معادل‌های انگلیسی آن‌ها، یعنی \"w\"، \"J/s\"، \"Nm/s\" و ... را به عنوان واحدهای کمیتِ توان در نظر می‌گیریم. توجه کنید اضافه کردن پیشوند به واحدهای بالا اثری بر روی تشخیص کمیت فیزیکی نمی‌گذارد.\n",
    "    </li>\n",
    "    <br>\n",
    "        با اجرای قطعه کد زیر، چند مثال از انواع مختلف واحدهای قابل تشخیص و کمیت‌های متناظر آن‌ها را مشاهده می‌کنیم.\n",
    "    </p>\n",
    "</div>"
   ]
  },
  {
   "cell_type": "code",
   "execution_count": 4,
   "metadata": {},
   "outputs": [
    {
     "data": {
      "text/plain": "                                   marker        span             type  \\\n0                                  مگاوات     (5, 11)           [توان]   \n1                                اسب بخار    (17, 25)           [توان]   \n2                    هکتوژول بر دسی‌ثانیه    (31, 51)           [توان]   \n3                            کالری ÷ ساعت    (57, 69)           [توان]   \n4                    ریدبرگ بر فمتو دقیقه    (75, 95)           [توان]   \n5         کیلوگرم یارد مربع بر مکعب ثانیه  (101, 132)           [توان]   \n6   تن × مجذور آنگستروم / میلی ثانیه مکعب  (138, 175)           [توان]   \n7               الکترون ولت بر پیکو ثانیه  (236, 261)           [توان]   \n8       زپتو گرم در سال نوری مربع بر جریب  (267, 300)            [جرم]   \n9                  نیوتون بر تسلا بر آمپر  (306, 328)            [طول]   \n10    ترا کولن در گاما در کیلومتر بر ساعت  (334, 369)           [نیرو]   \n11                 نانو وبر بر میکرو تسلا  (375, 397)          [مساحت]   \n12                                     cJ  (403, 405)  [انرژی, گشتاور]   \n13                                    kWh  (411, 414)  [انرژی, گشتاور]   \n14                                   km/h  (420, 424)           [سرعت]   \n15                                  rad/s  (430, 435)         [فرکانس]   \n\n                                     SI conversion  \n0    1000000.0 kilogram * meter ** 2 / second ** 3  \n1    735.49875 kilogram * meter ** 2 / second ** 3  \n2       1000.0 kilogram * meter ** 2 / second ** 3  \n3   0.00116222 kilogram * meter ** 2 / second ** 3  \n4    3.633e-05 kilogram * meter ** 2 / second ** 3  \n5   0.83612736 kilogram * meter ** 2 / second ** 3  \n6        1e-08 kilogram * meter ** 2 / second ** 3  \n7      1.6e-07 kilogram * meter ** 2 / second ** 3  \n8                          22117.18274908 kilogram  \n9                                        1.0 meter  \n10     277.77777778 kilogram * meter / second ** 2  \n11                                0.001 meter ** 2  \n12        0.01 kilogram * meter ** 2 / second ** 2  \n13   3600000.0 kilogram * meter ** 2 / second ** 2  \n14                       0.27777778 meter / second  \n15                             1.0 radian / second  ",
      "text/html": "<div>\n<style scoped>\n    .dataframe tbody tr th:only-of-type {\n        vertical-align: middle;\n    }\n\n    .dataframe tbody tr th {\n        vertical-align: top;\n    }\n\n    .dataframe thead th {\n        text-align: right;\n    }\n</style>\n<table border=\"1\" class=\"dataframe\">\n  <thead>\n    <tr style=\"text-align: right;\">\n      <th></th>\n      <th>marker</th>\n      <th>span</th>\n      <th>type</th>\n      <th>SI conversion</th>\n    </tr>\n  </thead>\n  <tbody>\n    <tr>\n      <th>0</th>\n      <td>مگاوات</td>\n      <td>(5, 11)</td>\n      <td>[توان]</td>\n      <td>1000000.0 kilogram * meter ** 2 / second ** 3</td>\n    </tr>\n    <tr>\n      <th>1</th>\n      <td>اسب بخار</td>\n      <td>(17, 25)</td>\n      <td>[توان]</td>\n      <td>735.49875 kilogram * meter ** 2 / second ** 3</td>\n    </tr>\n    <tr>\n      <th>2</th>\n      <td>هکتوژول بر دسی‌ثانیه</td>\n      <td>(31, 51)</td>\n      <td>[توان]</td>\n      <td>1000.0 kilogram * meter ** 2 / second ** 3</td>\n    </tr>\n    <tr>\n      <th>3</th>\n      <td>کالری ÷ ساعت</td>\n      <td>(57, 69)</td>\n      <td>[توان]</td>\n      <td>0.00116222 kilogram * meter ** 2 / second ** 3</td>\n    </tr>\n    <tr>\n      <th>4</th>\n      <td>ریدبرگ بر فمتو دقیقه</td>\n      <td>(75, 95)</td>\n      <td>[توان]</td>\n      <td>3.633e-05 kilogram * meter ** 2 / second ** 3</td>\n    </tr>\n    <tr>\n      <th>5</th>\n      <td>کیلوگرم یارد مربع بر مکعب ثانیه</td>\n      <td>(101, 132)</td>\n      <td>[توان]</td>\n      <td>0.83612736 kilogram * meter ** 2 / second ** 3</td>\n    </tr>\n    <tr>\n      <th>6</th>\n      <td>تن × مجذور آنگستروم / میلی ثانیه مکعب</td>\n      <td>(138, 175)</td>\n      <td>[توان]</td>\n      <td>1e-08 kilogram * meter ** 2 / second ** 3</td>\n    </tr>\n    <tr>\n      <th>7</th>\n      <td>الکترون ولت بر پیکو ثانیه</td>\n      <td>(236, 261)</td>\n      <td>[توان]</td>\n      <td>1.6e-07 kilogram * meter ** 2 / second ** 3</td>\n    </tr>\n    <tr>\n      <th>8</th>\n      <td>زپتو گرم در سال نوری مربع بر جریب</td>\n      <td>(267, 300)</td>\n      <td>[جرم]</td>\n      <td>22117.18274908 kilogram</td>\n    </tr>\n    <tr>\n      <th>9</th>\n      <td>نیوتون بر تسلا بر آمپر</td>\n      <td>(306, 328)</td>\n      <td>[طول]</td>\n      <td>1.0 meter</td>\n    </tr>\n    <tr>\n      <th>10</th>\n      <td>ترا کولن در گاما در کیلومتر بر ساعت</td>\n      <td>(334, 369)</td>\n      <td>[نیرو]</td>\n      <td>277.77777778 kilogram * meter / second ** 2</td>\n    </tr>\n    <tr>\n      <th>11</th>\n      <td>نانو وبر بر میکرو تسلا</td>\n      <td>(375, 397)</td>\n      <td>[مساحت]</td>\n      <td>0.001 meter ** 2</td>\n    </tr>\n    <tr>\n      <th>12</th>\n      <td>cJ</td>\n      <td>(403, 405)</td>\n      <td>[انرژی, گشتاور]</td>\n      <td>0.01 kilogram * meter ** 2 / second ** 2</td>\n    </tr>\n    <tr>\n      <th>13</th>\n      <td>kWh</td>\n      <td>(411, 414)</td>\n      <td>[انرژی, گشتاور]</td>\n      <td>3600000.0 kilogram * meter ** 2 / second ** 2</td>\n    </tr>\n    <tr>\n      <th>14</th>\n      <td>km/h</td>\n      <td>(420, 424)</td>\n      <td>[سرعت]</td>\n      <td>0.27777778 meter / second</td>\n    </tr>\n    <tr>\n      <th>15</th>\n      <td>rad/s</td>\n      <td>(430, 435)</td>\n      <td>[فرکانس]</td>\n      <td>1.0 radian / second</td>\n    </tr>\n  </tbody>\n</table>\n</div>"
     },
     "execution_count": 4,
     "metadata": {},
     "output_type": "execute_result"
    }
   ],
   "source": [
    "sample = 'مگاوات، اسب بخار، کیلوژول بر نانوثانیه، کالری ÷ ساعت، ریدبرگ بر دقیقه، کیلوگرم یارد مربع بر مکعب ثانیه، تن × مجذور آنگستروم / مکعب میلی ثانیه، اونس در میکرون مربع بر واحد زمان اتمی مکعب، MW، kJ بر μs، J/h، kgm بر مکعب min، نیوتون بر تسلا بر آمپر، کولن در گاوس در کیلومتر بر ساعت، نانو وبر بر میکرو تسلا، پیکو پوند در سال نوری بر مجذور ثانیه'\n",
    "\n",
    "sample = \"\"\"\n",
    "    مگاوات،\n",
    "    اسب بخار،\n",
    "    هکتوژول بر دسی‌ثانیه،\n",
    "    کالری ÷ ساعت،\n",
    "    ریدبرگ بر فمتو دقیقه،\n",
    "    کیلوگرم یارد مربع بر مکعب ثانیه،\n",
    "    تن × مجذور آنگستروم / میلی ثانیه مکعب،\n",
    "    یوکتو اونس در میکرون مربع بر واحد زمانی اتمی مکعب،\n",
    "    الکترون ولت بر پیکو ثانیه،\n",
    "    زپتو گرم در سال نوری مربع بر جریب،\n",
    "    نیوتون بر تسلا بر آمپر،\n",
    "    ترا کولن در گاما در کیلومتر بر ساعت،\n",
    "    نانو وبر بر میکرو تسلا،\n",
    "    cJ،\n",
    "    kWh،\n",
    "    km/h،\n",
    "    rad/s\n",
    "\"\"\"\n",
    "\n",
    "result = {\n",
    "    'marker': [],\n",
    "    'span': [],\n",
    "    'type': [],\n",
    "    'SI conversion': []\n",
    "}\n",
    "\n",
    "ureg = pint.UnitRegistry()\n",
    "for unit in extract_units(sample):\n",
    "    result['marker'].append(unit['marker'])\n",
    "    result['span'].append(unit['span'])\n",
    "    result['type'].append(unit_to_quantity(unit['object']))\n",
    "    result['SI conversion'].append(str(round(unit_to_SI_unit(unit['object']), 8)))\n",
    "\n",
    "pd.DataFrame(result)"
   ]
  },
  {
   "cell_type": "code",
   "execution_count": 5,
   "outputs": [
    {
     "name": "stdout",
     "output_type": "stream",
     "text": [
      "<re.Match object; span=(5, 16), match='۳٫۵ کیلوگرم'>\n",
      "<re.Match object; span=(41, 60), match='هشتاد و پنج صدم وات'>\n",
      "<re.Match object; span=(88, 95), match='15 km/h'>\n",
      "dict_keys(['شتاب', 'تکانه زاویه\\u200cای', 'مساحت', 'چگالی سطح', 'ظرفیت', 'پتانسیل شیمیایی', 'چگالی جریان', 'بار الکتریکی', 'پتانسیل الکتریکی', 'مقاومت الکتریکی', 'چگالی بار الگتریکی', 'انرژی', 'توان', 'فشار', 'گشتاور', 'سرعت', 'حجم', 'طول', 'جرم', 'زمان', 'جریان', 'دما', 'مقدار ماده', 'شدت روشنایی', 'نیرو', 'فرکانس'])\n"
     ]
    }
   ],
   "source": [
    "from number_extractor import NUM_IN_TEXT, WHITE_SPACE\n",
    "from unit_extractor import COMPLEX_UNIT, quantites_dict\n",
    "\n",
    "text = \"\"\"\n",
    "علی ۳٫۵ کیلوگرم آرد خرید و باتری خود را هشتاد و پنج صدم وات شارژ کرد\n",
    "شهاب سنگی به تندی 15 km/h وارد جو زمین شد\n",
    "\"\"\"\n",
    "\n",
    "pattern = rf'{NUM_IN_TEXT}{WHITE_SPACE}{COMPLEX_UNIT}'\n",
    "for match in re.finditer(pattern, text):\n",
    "    print(match)\n",
    "\n",
    "print(quantites_dict.keys())\n",
    "\n"
   ],
   "metadata": {
    "collapsed": false,
    "pycharm": {
     "name": "#%%\n"
    }
   }
  },
  {
   "cell_type": "code",
   "execution_count": null,
   "outputs": [],
   "source": [
    "# تکمیل گزارش\n",
    "# multiple numbers 1,2,3 and 3 kg\n",
    "# (number unit)\n",
    "# (type adj)\n",
    "# 2nd step: (numebr unit item)\n",
    "# 2nd step: extend marker using dict\n",
    "# ظول پهنا و...\n",
    "# توان مفید صد وات\n",
    "# سرعت ماشین دایی هاشم زیاد بود\n",
    "# TODO: صفات کیفی -> chunker\n",
    "# 500 گرم برابر با چند کیلو گرم است؟\n",
    "# چهار صد -> چهارصد\n",
    "# حذف همزه ء\n"
   ],
   "metadata": {
    "collapsed": false,
    "pycharm": {
     "name": "#%%\n"
    }
   }
  }
 ],
 "metadata": {
  "interpreter": {
   "hash": "626ac9517b54c2bc832ea786337eef0086c069184364406f5b623a688bdbf59f"
  },
  "kernelspec": {
   "display_name": "PyCharm (Text Exploration)",
   "language": "python",
   "name": "python3"
  },
  "language_info": {
   "codemirror_mode": {
    "name": "ipython",
    "version": 3
   },
   "file_extension": ".py",
   "mimetype": "text/x-python",
   "name": "python",
   "nbconvert_exporter": "python",
   "pygments_lexer": "ipython3",
   "version": "3.9.12"
  },
  "orig_nbformat": 4
 },
 "nbformat": 4,
 "nbformat_minor": 2
}